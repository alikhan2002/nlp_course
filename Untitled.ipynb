{
 "cells": [
  {
   "cell_type": "code",
   "execution_count": null,
   "id": "0d2896ab-983c-4e11-a0f3-c990c41b5af8",
   "metadata": {},
   "outputs": [],
   "source": []
  }
 ],
 "metadata": {
  "kernelspec": {
   "display_name": "",
   "name": ""
  },
  "language_info": {
   "name": ""
  }
 },
 "nbformat": 4,
 "nbformat_minor": 5
}
