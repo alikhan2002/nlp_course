{
 "cells": [
  {
   "cell_type": "code",
   "execution_count": 1,
   "id": "d95283da-3d45-4392-a8b7-bb6ae46d624f",
   "metadata": {},
   "outputs": [],
   "source": [
    "import os \n",
    "os.environ['http_proxy'] = 'http://proxy-ws.cbank.kz:8080'\n",
    "os.environ['https_proxy'] = 'http://proxy-ws.cbank.kz:8080'"
   ]
  },
  {
   "cell_type": "code",
   "execution_count": 122,
   "id": "05750b26-8dc7-4852-ace9-aa88564cf6a1",
   "metadata": {},
   "outputs": [],
   "source": [
    "import torch\n",
    "import torch.nn as nn\n",
    "import torch.optim as optim\n",
    "from torch.utils.data import Dataset, DataLoader, TensorDataset\n",
    "import numpy as np\n",
    "import random\n",
    "import matplotlib.pyplot as plt\n",
    "from datasets import load_dataset\n",
    "import re\n",
    "from collections import Counter\n",
    "import time"
   ]
  },
  {
   "cell_type": "code",
   "execution_count": 123,
   "id": "17008aa3-bf5e-4f33-9073-434ba1dd5c78",
   "metadata": {},
   "outputs": [],
   "source": [
    "dataset = load_dataset('imdb')\n",
    "\n",
    "train_data = dataset['train']\n",
    "test_data  = dataset['test']\n"
   ]
  },
  {
   "cell_type": "code",
   "execution_count": 124,
   "id": "50879f9b-e6c4-4ab9-8a0a-8916697531e2",
   "metadata": {},
   "outputs": [],
   "source": [
    "def tokenize(text):\n",
    "    text = text.lower()\n",
    "    text = re.sub(r\"[^a-z0-9'\\s]\", '', text)\n",
    "    tokens = text.split()\n",
    "    return tokens\n",
    "\n",
    "tokens = []\n",
    "for item in train_data:\n",
    "    tokens.extend(tokenize(item['text']))\n",
    "\n",
    "vocab_size = 10000\n",
    "counts = Counter(tokens)\n",
    "vocab = sorted(counts, key=counts.get, reverse=True)[:vocab_size-2] \n",
    "\n",
    "word2idx = {'<PAD>': 0, '<UNK>': 1}\n",
    "for i, w in enumerate(vocab, start=2):\n",
    "    word2idx[w] = i\n",
    "\n",
    "idx2word = {v: k for k, v in word2idx.items()}\n",
    "\n",
    "def text_to_sequence(text, word2idx, max_length=200):\n",
    "    tokens = tokenize(text)\n",
    "    seq = []\n",
    "    for t in tokens:\n",
    "        seq.append(word2idx[t] if t in word2idx else word2idx['<UNK>'])\n",
    "\n",
    "    seq = seq[:max_length]\n",
    "    seq += [word2idx['<PAD>']] * (max_length - len(seq))\n",
    "    return seq\n"
   ]
  },
  {
   "cell_type": "code",
   "execution_count": 125,
   "id": "8171f41c-1b2b-495e-89f3-ca4f6c155ccd",
   "metadata": {},
   "outputs": [],
   "source": [
    "class IMDBDataset(Dataset):\n",
    "    def __init__(self, dataset, word2idx, max_length=200):\n",
    "        self.data = dataset\n",
    "        self.word2idx = word2idx\n",
    "        self.max_length = max_length\n",
    "        \n",
    "    def __len__(self):\n",
    "        return len(self.data)\n",
    "    \n",
    "    def __getitem__(self, idx):\n",
    "        text = self.data[idx]['text']\n",
    "        label = self.data[idx]['label']\n",
    "        \n",
    "        seq = text_to_sequence(text, self.word2idx, self.max_length)\n",
    "        seq = torch.tensor(seq, dtype=torch.long)\n",
    "        label = torch.tensor(label, dtype=torch.long)\n",
    "        \n",
    "        return seq, label\n",
    "\n",
    "max_length = 200\n",
    "train_dataset = IMDBDataset(train_data, word2idx, max_length=max_length)\n",
    "test_dataset  = IMDBDataset(test_data,  word2idx, max_length=max_length)\n",
    "\n",
    "train_loader = DataLoader(train_dataset, batch_size=32, shuffle=True)\n",
    "test_loader  = DataLoader(test_dataset,  batch_size=32, shuffle=False)\n"
   ]
  },
  {
   "cell_type": "code",
   "execution_count": 126,
   "id": "2a47e1b5-3289-4392-9e53-fa314a19d5cf",
   "metadata": {},
   "outputs": [],
   "source": [
    "class RNN(nn.Module):\n",
    "    def __init__(self, vocab_size, embed_dim, hidden_size, output_size=2):\n",
    "        super(RNN, self).__init__()\n",
    "        self.hidden_size = hidden_size\n",
    "        \n",
    "        self.embedding = nn.Embedding(vocab_size, embed_dim, padding_idx=0)\n",
    "        self.rnn = nn.RNN(embed_dim, hidden_size, batch_first=True)\n",
    "        self.fc = nn.Linear(hidden_size, output_size)\n",
    "        \n",
    "    def forward(self, x):\n",
    "        embedded = self.embedding(x)  \n",
    "        output, hidden = self.rnn(embedded)  \n",
    "        last_hidden = hidden[-1]\n",
    "        \n",
    "        logits = self.fc(last_hidden)  \n",
    "        return logits\n"
   ]
  },
  {
   "cell_type": "code",
   "execution_count": 127,
   "id": "427a3308-1e07-436a-8d0e-281e2e59c3ba",
   "metadata": {},
   "outputs": [],
   "source": [
    "class TransformerClassifier(nn.Module):\n",
    "    def __init__(self, vocab_size, embed_dim=128, num_heads=4, ff_dim=512, num_layers=2, max_length=200, pad_idx=0, num_classes=2):\n",
    "        super().__init__()\n",
    "        self.token_emb = nn.Embedding(vocab_size, embed_dim, padding_idx=pad_idx)\n",
    "        self.pos_emb = nn.Embedding(max_length, embed_dim)\n",
    "        layer = nn.TransformerEncoderLayer(d_model=embed_dim, nhead=num_heads, dim_feedforward=ff_dim, batch_first=True)\n",
    "        self.transformer = nn.TransformerEncoder(layer, num_layers=num_layers)\n",
    "        self.fc = nn.Linear(embed_dim, num_classes)\n",
    "\n",
    "    def forward(self, x):\n",
    "        batch_size, seq_len = x.size()\n",
    "        positions = torch.arange(seq_len, device=x.device).unsqueeze(0).expand(batch_size, seq_len)\n",
    "        x = self.token_emb(x) + self.pos_emb(positions)\n",
    "        x = self.transformer(x)\n",
    "        x = x.mean(dim=1)\n",
    "        return self.fc(x)"
   ]
  },
  {
   "cell_type": "code",
   "execution_count": 128,
   "id": "44762f7a-f79d-44b5-9c33-7bddb0ba1a20",
   "metadata": {},
   "outputs": [],
   "source": [
    "train_losses = []\n",
    "test_losses = []\n",
    "train_accuracies = []\n",
    "test_accuracies = []\n",
    "\n",
    "def train_and_evaluate(model, train_loader, test_loader, criterion, optimizer, num_epochs=5, device='cpu'):\n",
    "    model.to(device)\n",
    "    \n",
    "    start_time = time.time()\n",
    "    for epoch in range(num_epochs):\n",
    "        model.train()\n",
    "        losses = 0.0\n",
    "        correct = 0\n",
    "        total = 0\n",
    "        for sequences, labels in train_loader:\n",
    "            sequences, labels = sequences.to(device), labels.to(device)\n",
    "            \n",
    "            optimizer.zero_grad()\n",
    "            outputs = model(sequences)\n",
    "            loss = criterion(outputs, labels)\n",
    "            loss.backward()\n",
    "            \n",
    "            \n",
    "            optimizer.step()\n",
    "            \n",
    "            losses += loss.item() * sequences.size(0)\n",
    "            \n",
    "            _, predicted = torch.max(outputs, dim=1)\n",
    "            correct += (predicted == labels).sum().item()\n",
    "            total += labels.size(0)\n",
    "        epoch_train_loss = losses / len(train_loader.dataset)\n",
    "        epoch_train_acc = correct / total\n",
    "        \n",
    "        #testing\n",
    "        model.eval()\n",
    "        losses_test = 0.0\n",
    "        correct_test = 0\n",
    "        total_test = 0\n",
    "        \n",
    "        with torch.no_grad():\n",
    "            for sequences, labels in test_loader:\n",
    "                sequences, labels = sequences.to(device), labels.to(device)\n",
    "                outputs = model(sequences)\n",
    "                loss = criterion(outputs, labels)\n",
    "                losses_test += loss.item() * sequences.size(0)\n",
    "                \n",
    "                _, predicted = torch.max(outputs, dim=1)\n",
    "                correct_test += (predicted == labels).sum().item()\n",
    "                total_test += labels.size(0)\n",
    "        \n",
    "        epoch_test_loss = losses_test / len(test_loader.dataset)\n",
    "        epoch_test_acc = correct_test / total_test\n",
    "        \n",
    "        train_losses.append(epoch_train_loss)\n",
    "        test_losses.append(epoch_test_loss)\n",
    "        train_accuracies.append(epoch_train_acc)\n",
    "        test_accuracies.append(epoch_test_acc)\n",
    "        \n",
    "        print(f\"Epoch [{epoch+1}/{num_epochs}] \" \n",
    "              f\"Train Loss: {epoch_train_loss:.5f} Train Acc: {epoch_train_acc:.5f} \"\n",
    "              f\"Test Loss: {epoch_test_loss:.5f} Test Acc: {epoch_test_acc:.5f}\")\n",
    "    \n",
    "    end_time = time.time()\n",
    "    total_time = end_time - start_time  \n",
    "    return train_losses, test_losses, train_accuracies, test_accuracies, total_time\n"
   ]
  },
  {
   "cell_type": "code",
   "execution_count": 129,
   "id": "f7cc24c8-1b7f-4393-9c0d-fdfae064c806",
   "metadata": {},
   "outputs": [
    {
     "data": {
      "text/plain": [
       "device(type='cuda')"
      ]
     },
     "execution_count": 129,
     "metadata": {},
     "output_type": "execute_result"
    }
   ],
   "source": [
    "device = torch.device(\"cuda\" if torch.cuda.is_available() else \"cpu\")\n",
    "device"
   ]
  },
  {
   "cell_type": "code",
   "execution_count": 130,
   "id": "1a11ecc6-cc49-4d8e-8315-ba1641867cc8",
   "metadata": {},
   "outputs": [
    {
     "name": "stdout",
     "output_type": "stream",
     "text": [
      "Epoch [1/10] Train Loss: 0.69735 Train Acc: 0.50212 Test Loss: 0.69373 Test Acc: 0.50452\n",
      "Epoch [2/10] Train Loss: 0.69577 Train Acc: 0.51808 Test Loss: 0.70178 Test Acc: 0.49952\n",
      "Epoch [3/10] Train Loss: 0.68796 Train Acc: 0.53576 Test Loss: 0.70417 Test Acc: 0.53316\n",
      "Epoch [4/10] Train Loss: 0.67279 Train Acc: 0.56800 Test Loss: 0.70079 Test Acc: 0.50096\n",
      "Epoch [5/10] Train Loss: 0.66861 Train Acc: 0.56744 Test Loss: 0.71602 Test Acc: 0.52148\n",
      "Epoch [6/10] Train Loss: 0.65283 Train Acc: 0.57920 Test Loss: 0.72086 Test Acc: 0.52168\n",
      "Epoch [7/10] Train Loss: 0.63234 Train Acc: 0.59752 Test Loss: 0.74774 Test Acc: 0.51620\n",
      "Epoch [8/10] Train Loss: 0.60774 Train Acc: 0.61716 Test Loss: 0.75836 Test Acc: 0.52548\n",
      "Epoch [9/10] Train Loss: 0.61525 Train Acc: 0.61136 Test Loss: 0.71357 Test Acc: 0.50736\n",
      "Epoch [10/10] Train Loss: 0.65584 Train Acc: 0.56708 Test Loss: 0.71920 Test Acc: 0.50432\n"
     ]
    }
   ],
   "source": [
    "model = RNN(vocab_size=vocab_size, embed_dim=128, hidden_size=128, output_size=2)\n",
    "criterion = nn.CrossEntropyLoss()\n",
    "optimizer = optim.Adam(model.parameters(), lr=1e-3)\n",
    "\n",
    "num_epochs = 10\n",
    "train_losses, test_losses, train_acc, test_acc, train_time = train_and_evaluate(\n",
    "    model, train_loader, test_loader, criterion, optimizer, num_epochs=num_epochs, device=device\n",
    ")\n"
   ]
  },
  {
   "cell_type": "code",
   "execution_count": 131,
   "id": "640851d5-518f-476e-9989-6fd7448c5c6e",
   "metadata": {},
   "outputs": [
    {
     "name": "stdout",
     "output_type": "stream",
     "text": [
      "Epoch [1/10] Train Loss: 0.48544 Train Acc: 0.75208 Test Loss: 0.38470 Test Acc: 0.82456\n",
      "Epoch [2/10] Train Loss: 0.32696 Train Acc: 0.85820 Test Loss: 0.39143 Test Acc: 0.82404\n",
      "Epoch [3/10] Train Loss: 0.28755 Train Acc: 0.87828 Test Loss: 0.40655 Test Acc: 0.82616\n",
      "Epoch [4/10] Train Loss: 0.25569 Train Acc: 0.89452 Test Loss: 0.39624 Test Acc: 0.83524\n",
      "Epoch [5/10] Train Loss: 0.30382 Train Acc: 0.86600 Test Loss: 0.48725 Test Acc: 0.78708\n",
      "Epoch [6/10] Train Loss: 0.38335 Train Acc: 0.82736 Test Loss: 0.49175 Test Acc: 0.76572\n",
      "Epoch [7/10] Train Loss: 0.44074 Train Acc: 0.79052 Test Loss: 0.54462 Test Acc: 0.73248\n",
      "Epoch [8/10] Train Loss: 0.49171 Train Acc: 0.76040 Test Loss: 0.56840 Test Acc: 0.71160\n",
      "Epoch [9/10] Train Loss: 0.52609 Train Acc: 0.73576 Test Loss: 0.58900 Test Acc: 0.69116\n",
      "Epoch [10/10] Train Loss: 0.53485 Train Acc: 0.72756 Test Loss: 0.59031 Test Acc: 0.68884\n"
     ]
    }
   ],
   "source": [
    "model = TransformerClassifier(vocab_size=len(word2idx), pad_idx=word2idx['<PAD>'])\n",
    "criterion = nn.CrossEntropyLoss()\n",
    "optimizer = torch.optim.Adam(model.parameters(), lr=1e-3)\n",
    "\n",
    "train_losses_t, test_losses_t, train_accs_t, test_accs_t, train_time_t = train_and_evaluate(\n",
    "    model, train_loader, test_loader, criterion, optimizer, num_epochs=10, device=device\n",
    ")"
   ]
  },
  {
   "cell_type": "code",
   "execution_count": 132,
   "id": "15ef2138-7c10-42e0-b6bd-c6c4affb2e9a",
   "metadata": {},
   "outputs": [
    {
     "name": "stdout",
     "output_type": "stream",
     "text": [
      "43.62420129776001 61.11458992958069\n"
     ]
    }
   ],
   "source": [
    "print(train_time, train_time_t)"
   ]
  },
  {
   "cell_type": "markdown",
   "id": "58a4cd7e-7e50-4517-961c-183743560ee6",
   "metadata": {},
   "source": [
    "# Task 2"
   ]
  },
  {
   "cell_type": "code",
   "execution_count": 23,
   "id": "522d6fe6-8bf4-45bf-9191-2ca86f4d9a0c",
   "metadata": {},
   "outputs": [
    {
     "name": "stdout",
     "output_type": "stream",
     "text": [
      "Attention Weights:\n",
      " [[0.374 0.114 0.337 0.175]\n",
      " [0.301 0.182 0.296 0.221]\n",
      " [0.345 0.135 0.328 0.192]\n",
      " [0.314 0.166 0.304 0.216]]\n"
     ]
    },
    {
     "data": {
      "image/png": "[encoded data removed]",
      "text/plain": [
       "<Figure size 600x500 with 2 Axes>"
      ]
     },
     "metadata": {},
     "output_type": "display_data"
    }
   ],
   "source": [
    "import numpy as np\n",
    "import matplotlib.pyplot as plt\n",
    "\n",
    "tokens = [\"I\", \"love\", \"NLP\", \".\"]\n",
    "\n",
    "d_model = 4\n",
    "np.random.seed(42)\n",
    "\n",
    "embeddings = np.random.rand(len(tokens), d_model)\n",
    "\n",
    "W_q = np.random.rand(d_model, d_model)\n",
    "W_k = np.random.rand(d_model, d_model)\n",
    "W_v = np.random.rand(d_model, d_model)\n",
    "\n",
    "Q = embeddings @ W_q\n",
    "K = embeddings @ W_k\n",
    "V = embeddings @ W_v\n",
    "\n",
    "d_k = d_model\n",
    "scores = (Q @ K.T) / np.sqrt(d_k)\n",
    "\n",
    "exp_scores = np.exp(scores - np.max(scores, axis=1, keepdims=True))\n",
    "attention_weights = exp_scores / exp_scores.sum(axis=1, keepdims=True)\n",
    "\n",
    "attention_output = attention_weights @ V\n",
    "\n",
    "print(\"Attention Weights:\\n\", np.round(attention_weights, 3))\n",
    "\n",
    "plt.figure(figsize=(6, 5))\n",
    "plt.imshow(attention_weights, aspect='auto')\n",
    "plt.colorbar(label='Attention Score')\n",
    "plt.xticks(range(len(tokens)), tokens)\n",
    "plt.yticks(range(len(tokens)), tokens)\n",
    "plt.xlabel(\"Key Token\")\n",
    "plt.ylabel(\"Query Token\")\n",
    "plt.title(\"Self-Attention Weights\")\n",
    "plt.show()\n"
   ]
  },
  {
   "cell_type": "markdown",
   "id": "e676af5f-ab45-43d2-8550-f8c03b07a281",
   "metadata": {},
   "source": [
    "# Task 3"
   ]
  },
  {
   "cell_type": "code",
   "execution_count": 134,
   "id": "1fa3f781-dd84-4033-8187-cece8da49f79",
   "metadata": {},
   "outputs": [],
   "source": [
    "import torch\n",
    "import torch.nn as nn\n",
    "import torch.nn.functional as F\n",
    "import math  \n",
    "\n",
    "# 1. Positional Encoding\n",
    "class PositionalEncoding(nn.Module):\n",
    "    def __init__(self, d_model, max_len=200):\n",
    "        super().__init__()\n",
    "        pe = torch.zeros(max_len, d_model)\n",
    "        pos = torch.arange(0, max_len, dtype=torch.float).unsqueeze(1)\n",
    "        div = torch.exp(torch.arange(0, d_model, 2).float() * (-torch.log(torch.tensor(10000.0)) / d_model))\n",
    "        pe[:, 0::2] = torch.sin(pos * div)\n",
    "        pe[:, 1::2] = torch.cos(pos * div)\n",
    "        self.pe = pe.unsqueeze(0)  # shape (1, max_len, d_model)\n",
    "\n",
    "    def forward(self, x):\n",
    "        # x: (batch_size, seq_len, d_model)\n",
    "        return x + self.pe[:, :x.size(1), :].to(x.device)\n"
   ]
  },
  {
   "cell_type": "code",
   "execution_count": 135,
   "id": "27bcba06-ac87-44b0-9085-a16941806d5b",
   "metadata": {},
   "outputs": [],
   "source": [
    "# 2. Scaled Dot-Product Attention\n",
    "class ScaledDotProductAttention(nn.Module):\n",
    "    def __init__(self, dropout=0.1):\n",
    "        super().__init__()\n",
    "        self.dropout = nn.Dropout(dropout)\n",
    "\n",
    "    def forward(self, Q, K, V, mask=None):\n",
    "        # Q,K,V: (batch_size, heads, seq_len, d_k)\n",
    "        scores = torch.matmul(Q, K.transpose(-2, -1)) / math.sqrt(Q.size(-1))\n",
    "        if mask is not None:\n",
    "            scores = scores.masked_fill(mask == 0, -1e9)\n",
    "        attn = F.softmax(scores, dim=-1)\n",
    "        attn = self.dropout(attn)\n",
    "        return torch.matmul(attn, V), attn"
   ]
  },
  {
   "cell_type": "code",
   "execution_count": 136,
   "id": "7105bc7d-67df-45ad-8387-439818115a2f",
   "metadata": {},
   "outputs": [],
   "source": [
    "# 3. Multi-Head Attention\n",
    "class MultiHeadAttention(nn.Module):\n",
    "    def __init__(self, d_model, num_heads, dropout=0.1):\n",
    "        super().__init__()\n",
    "        assert d_model % num_heads == 0\n",
    "        self.d_k = d_model // num_heads\n",
    "        self.num_heads = num_heads\n",
    "\n",
    "        self.W_q = nn.Linear(d_model, d_model)\n",
    "        self.W_k = nn.Linear(d_model, d_model)\n",
    "        self.W_v = nn.Linear(d_model, d_model)\n",
    "        self.attn = ScaledDotProductAttention(dropout)\n",
    "        self.fc_out = nn.Linear(d_model, d_model)\n",
    "        self.dropout = nn.Dropout(dropout)\n",
    "        self.norm = nn.LayerNorm(d_model)\n",
    "\n",
    "    def forward(self, x, mask=None):\n",
    "        bsz, seq_len, _ = x.size()\n",
    "        # project and split heads\n",
    "        Q = self.W_q(x).view(bsz, seq_len, self.num_heads, self.d_k).transpose(1,2)\n",
    "        K = self.W_k(x).view(bsz, seq_len, self.num_heads, self.d_k).transpose(1,2)\n",
    "        V = self.W_v(x).view(bsz, seq_len, self.num_heads, self.d_k).transpose(1,2)\n",
    "\n",
    "        out, _ = self.attn(Q, K, V, mask)                     # (bsz, heads, seq_len, d_k)\n",
    "        out = out.transpose(1,2).contiguous().view(bsz, seq_len, -1)\n",
    "        out = self.dropout(self.fc_out(out))\n",
    "        # residual + norm\n",
    "        return self.norm(x + out)"
   ]
  },
  {
   "cell_type": "code",
   "execution_count": 137,
   "id": "ca8ebe3b-316c-4d6b-859d-3ce206730d32",
   "metadata": {},
   "outputs": [],
   "source": [
    "# 4. Position-wise Feed-Forward\n",
    "class FeedForward(nn.Module):\n",
    "    def __init__(self, d_model, d_ff, dropout=0.1):\n",
    "        super().__init__()\n",
    "        self.net = nn.Sequential(\n",
    "            nn.Linear(d_model, d_ff),\n",
    "            nn.ReLU(inplace=True),\n",
    "            nn.Dropout(dropout),\n",
    "            nn.Linear(d_ff, d_model),\n",
    "            nn.Dropout(dropout),\n",
    "        )\n",
    "        self.norm = nn.LayerNorm(d_model)\n",
    "\n",
    "    def forward(self, x):\n",
    "        return self.norm(x + self.net(x))"
   ]
  },
  {
   "cell_type": "code",
   "execution_count": 138,
   "id": "340d2ad7-2384-4b61-95e1-0e43c199406b",
   "metadata": {},
   "outputs": [],
   "source": [
    "# 5. Encoder Layer\n",
    "class EncoderLayer(nn.Module):\n",
    "    def __init__(self, d_model, num_heads, d_ff, dropout=0.1):\n",
    "        super().__init__()\n",
    "        self.self_attn = MultiHeadAttention(d_model, num_heads, dropout)\n",
    "        self.ff = FeedForward(d_model, d_ff, dropout)\n",
    "\n",
    "    def forward(self, x, mask=None):\n",
    "        x = self.self_attn(x, mask)\n",
    "        x = self.ff(x)\n",
    "        return x"
   ]
  },
  {
   "cell_type": "code",
   "execution_count": 139,
   "id": "a9033e61-efa5-4c79-abed-0133fba42f2c",
   "metadata": {},
   "outputs": [],
   "source": [
    "# 6. Transformer Encoder\n",
    "class TransformerEncoder(nn.Module):\n",
    "    def __init__(self, d_model, num_heads, d_ff, num_layers, dropout=0.1):\n",
    "        super().__init__()\n",
    "        self.layers = nn.ModuleList([\n",
    "            EncoderLayer(d_model, num_heads, d_ff, dropout)\n",
    "            for _ in range(num_layers)\n",
    "        ])\n",
    "\n",
    "    def forward(self, x, mask=None):\n",
    "        for layer in self.layers:\n",
    "            x = layer(x, mask)\n",
    "        return x"
   ]
  },
  {
   "cell_type": "code",
   "execution_count": 140,
   "id": "7e938dd2-c875-4d5a-b5f6-833266f486db",
   "metadata": {},
   "outputs": [],
   "source": [
    "# 7. Full Classifier\n",
    "class TransformerClassifierFromScratch(nn.Module):\n",
    "    def __init__(self, vocab_size, embed_dim=128, num_heads=4, ff_dim=512,\n",
    "                 num_layers=2, max_length=200, pad_idx=0, num_classes=2, dropout=0.1):\n",
    "        super().__init__()\n",
    "        self.token_emb = nn.Embedding(vocab_size, embed_dim, padding_idx=pad_idx)\n",
    "        self.pos_enc   = PositionalEncoding(embed_dim, max_length)\n",
    "        self.encoder   = TransformerEncoder(embed_dim, num_heads, ff_dim, num_layers, dropout)\n",
    "        self.fc_out    = nn.Linear(embed_dim, num_classes)\n",
    "\n",
    "    def forward(self, x, mask=None):\n",
    "        # x: (bsz, seq_len)\n",
    "        x = self.token_emb(x)              # (bsz, seq_len, embed_dim)\n",
    "        x = self.pos_enc(x)\n",
    "        x = self.encoder(x, mask)          # (bsz, seq_len, embed_dim)\n",
    "        x = x.mean(dim=1)                  # global average pooling\n",
    "        return self.fc_out(x)\n"
   ]
  },
  {
   "cell_type": "code",
   "execution_count": 141,
   "id": "5510fcd7-3c14-48b6-9956-dc928028e23f",
   "metadata": {},
   "outputs": [
    {
     "name": "stdout",
     "output_type": "stream",
     "text": [
      "Epoch [1/5] Train Loss: 0.51735 Train Acc: 0.73336 Test Loss: 0.47982 Test Acc: 0.76552\n",
      "Epoch [2/5] Train Loss: 0.35205 Train Acc: 0.84584 Test Loss: 0.45263 Test Acc: 0.78916\n",
      "Epoch [3/5] Train Loss: 0.28363 Train Acc: 0.88244 Test Loss: 0.35793 Test Acc: 0.84552\n",
      "Epoch [4/5] Train Loss: 0.23372 Train Acc: 0.90484 Test Loss: 0.37917 Test Acc: 0.84332\n",
      "Epoch [5/5] Train Loss: 0.19301 Train Acc: 0.92560 Test Loss: 0.41793 Test Acc: 0.83932\n"
     ]
    },
    {
     "ename": "ValueError",
     "evalue": "too many values to unpack (expected 4)",
     "output_type": "error",
     "traceback": [
      "\u001b[0;31m---------------------------------------------------------------------------\u001b[0m",
      "\u001b[0;31mValueError\u001b[0m                                Traceback (most recent call last)",
      "Cell \u001b[0;32mIn[141], line 11\u001b[0m\n\u001b[1;32m      8\u001b[0m criterion \u001b[38;5;241m=\u001b[39m nn\u001b[38;5;241m.\u001b[39mCrossEntropyLoss()\n\u001b[1;32m      9\u001b[0m optimizer \u001b[38;5;241m=\u001b[39m torch\u001b[38;5;241m.\u001b[39moptim\u001b[38;5;241m.\u001b[39mAdam(model\u001b[38;5;241m.\u001b[39mparameters(), lr\u001b[38;5;241m=\u001b[39m\u001b[38;5;241m1e-3\u001b[39m)\n\u001b[0;32m---> 11\u001b[0m train_losses, val_losses, train_accs, val_accs \u001b[38;5;241m=\u001b[39m train_and_evaluate(\n\u001b[1;32m     12\u001b[0m     model, train_loader, test_loader, criterion, optimizer,\n\u001b[1;32m     13\u001b[0m     num_epochs\u001b[38;5;241m=\u001b[39m\u001b[38;5;241m5\u001b[39m, device\u001b[38;5;241m=\u001b[39mdevice\n\u001b[1;32m     14\u001b[0m )\n\u001b[1;32m     16\u001b[0m \u001b[38;5;28mprint\u001b[39m(\u001b[38;5;124mf\u001b[39m\u001b[38;5;124m\"\u001b[39m\u001b[38;5;124mFinal Val Accuracy: \u001b[39m\u001b[38;5;132;01m{\u001b[39;00mval_accs[\u001b[38;5;241m-\u001b[39m\u001b[38;5;241m1\u001b[39m]\u001b[38;5;132;01m:\u001b[39;00m\u001b[38;5;124m.4f\u001b[39m\u001b[38;5;132;01m}\u001b[39;00m\u001b[38;5;124m, Loss: \u001b[39m\u001b[38;5;132;01m{\u001b[39;00mval_losses[\u001b[38;5;241m-\u001b[39m\u001b[38;5;241m1\u001b[39m]\u001b[38;5;132;01m:\u001b[39;00m\u001b[38;5;124m.4f\u001b[39m\u001b[38;5;132;01m}\u001b[39;00m\u001b[38;5;124m\"\u001b[39m)\n",
      "\u001b[0;31mValueError\u001b[0m: too many values to unpack (expected 4)"
     ]
    }
   ],
   "source": [
    "# === Usage ===\n",
    "device = torch.device('cuda' if torch.cuda.is_available() else 'cpu')\n",
    "model = TransformerClassifierFromScratch(\n",
    "    vocab_size=len(word2idx),\n",
    "    pad_idx=word2idx['<PAD>']\n",
    ").to(device)\n",
    "\n",
    "criterion = nn.CrossEntropyLoss()\n",
    "optimizer = torch.optim.Adam(model.parameters(), lr=1e-3)\n",
    "\n",
    "train_losses, val_losses, train_accs, val_accs = train_and_evaluate(\n",
    "    model, train_loader, test_loader, criterion, optimizer,\n",
    "    num_epochs=5, device=device\n",
    ")\n",
    "\n",
    "print(f\"Final Val Accuracy: {val_accs[-1]:.4f}, Loss: {val_losses[-1]:.4f}\")\n"
   ]
  },
  {
   "cell_type": "markdown",
   "id": "af3e5732-6158-4034-a833-c37f01614746",
   "metadata": {},
   "source": [
    "# Task 4"
   ]
  },
  {
   "cell_type": "code",
   "execution_count": 14,
   "id": "9a8710c6-9c7b-480f-9e49-e520958129cd",
   "metadata": {
    "scrolled": true
   },
   "outputs": [
    {
     "name": "stderr",
     "output_type": "stream",
     "text": [
      "/opt/conda/envs/classifier/lib/python3.10/site-packages/transformers/tokenization_utils_base.py:1617: FutureWarning: `clean_up_tokenization_spaces` was not set. It will be set to `True` by default. This behavior will be deprecated in transformers v4.45, and will be then set to `False` by default. For more details check this issue: https://github.com/huggingface/transformers/issues/31884\n",
      "  warnings.warn(\n",
      "Some weights of BertForSequenceClassification were not initialized from the model checkpoint at bert-base-uncased and are newly initialized: ['classifier.bias', 'classifier.weight']\n",
      "You should probably TRAIN this model on a down-stream task to be able to use it for predictions and inference.\n",
      "/opt/conda/envs/classifier/lib/python3.10/site-packages/transformers/training_args.py:1545: FutureWarning: `evaluation_strategy` is deprecated and will be removed in version 4.46 of 🤗 Transformers. Use `eval_strategy` instead\n",
      "  warnings.warn(\n",
      "\u001b[34m\u001b[1mwandb\u001b[0m: \u001b[33mWARNING\u001b[0m The `run_name` is currently set to the same value as `TrainingArguments.output_dir`. If this was not intended, please specify a different run name by setting the `TrainingArguments.run_name` parameter.\n",
      "Failed to detect the name of this notebook, you can set it manually with the WANDB_NOTEBOOK_NAME environment variable to enable code saving.\n",
      "\u001b[34m\u001b[1mwandb\u001b[0m: Using wandb-core as the SDK backend. Please refer to https://wandb.me/wandb-core for more information.\n",
      "\u001b[34m\u001b[1mwandb\u001b[0m: Currently logged in as: \u001b[33malihan-zhamankhan\u001b[0m (\u001b[33malihan-zhamankhan-kazakh-british-technical-university\u001b[0m). Use \u001b[1m`wandb login --relogin`\u001b[0m to force relogin\n"
     ]
    },
    {
     "data": {
      "text/html": [
       "Tracking run with wandb version 0.18.1"
      ],
      "text/plain": [
       "<IPython.core.display.HTML object>"
      ]
     },
     "metadata": {},
     "output_type": "display_data"
    },
    {
     "data": {
      "text/html": [
       "Run data is saved locally in <code>/home/jovyan/work/_shared/alikhan/final/wandb/run-20250425_101540-6k05btq9</code>"
      ],
      "text/plain": [
       "<IPython.core.display.HTML object>"
      ]
     },
     "metadata": {},
     "output_type": "display_data"
    },
    {
     "data": {
      "text/html": [
       "Syncing run <strong><a href='https://wandb.ai/alihan-zhamankhan-kazakh-british-technical-university/huggingface/runs/6k05btq9' target=\"_blank\">./bert-imdb</a></strong> to <a href='https://wandb.ai/alihan-zhamankhan-kazakh-british-technical-university/huggingface' target=\"_blank\">Weights & Biases</a> (<a href='https://wandb.me/run' target=\"_blank\">docs</a>)<br/>"
      ],
      "text/plain": [
       "<IPython.core.display.HTML object>"
      ]
     },
     "metadata": {},
     "output_type": "display_data"
    },
    {
     "data": {
      "text/html": [
       " View project at <a href='https://wandb.ai/alihan-zhamankhan-kazakh-british-technical-university/huggingface' target=\"_blank\">https://wandb.ai/alihan-zhamankhan-kazakh-british-technical-university/huggingface</a>"
      ],
      "text/plain": [
       "<IPython.core.display.HTML object>"
      ]
     },
     "metadata": {},
     "output_type": "display_data"
    },
    {
     "data": {
      "text/html": [
       " View run at <a href='https://wandb.ai/alihan-zhamankhan-kazakh-british-technical-university/huggingface/runs/6k05btq9' target=\"_blank\">https://wandb.ai/alihan-zhamankhan-kazakh-british-technical-university/huggingface/runs/6k05btq9</a>"
      ],
      "text/plain": [
       "<IPython.core.display.HTML object>"
      ]
     },
     "metadata": {},
     "output_type": "display_data"
    },
    {
     "data": {
      "text/html": [
       "\n",
       "    <div>\n",
       "      \n",
       "      <progress value='6250' max='6250' style='width:300px; height:20px; vertical-align: middle;'></progress>\n",
       "      [6250/6250 06:35, Epoch 2/2]\n",
       "    </div>\n",
       "    <table border=\"1\" class=\"dataframe\">\n",
       "  <thead>\n",
       " <tr style=\"text-align: left;\">\n",
       "      <th>Epoch</th>\n",
       "      <th>Training Loss</th>\n",
       "      <th>Validation Loss</th>\n",
       "      <th>Accuracy</th>\n",
       "    </tr>\n",
       "  </thead>\n",
       "  <tbody>\n",
       "    <tr>\n",
       "      <td>1</td>\n",
       "      <td>0.311400</td>\n",
       "      <td>0.319850</td>\n",
       "      <td>0.900400</td>\n",
       "    </tr>\n",
       "    <tr>\n",
       "      <td>2</td>\n",
       "      <td>0.152800</td>\n",
       "      <td>0.343995</td>\n",
       "      <td>0.919800</td>\n",
       "    </tr>\n",
       "  </tbody>\n",
       "</table><p>"
      ],
      "text/plain": [
       "<IPython.core.display.HTML object>"
      ]
     },
     "metadata": {},
     "output_type": "display_data"
    },
    {
     "data": {
      "text/html": [
       "\n",
       "    <div>\n",
       "      \n",
       "      <progress value='3125' max='3125' style='width:300px; height:20px; vertical-align: middle;'></progress>\n",
       "      [3125/3125 00:39]\n",
       "    </div>\n",
       "    "
      ],
      "text/plain": [
       "<IPython.core.display.HTML object>"
      ]
     },
     "metadata": {},
     "output_type": "display_data"
    },
    {
     "name": "stdout",
     "output_type": "stream",
     "text": [
      "BERT IMDB accuracy: 0.9198\n"
     ]
    },
    {
     "name": "stderr",
     "output_type": "stream",
     "text": [
      "\u001b[34m\u001b[1mwandb\u001b[0m: \u001b[33mWARNING\u001b[0m Fatal error while uploading data. Some run data will not be synced, but it will still be written to disk. Use `wandb sync` at the end of the run to try uploading.\n"
     ]
    }
   ],
   "source": [
    "from datasets import load_dataset\n",
    "import evaluate\n",
    "from transformers import AutoTokenizer, AutoModelForSequenceClassification, Trainer, TrainingArguments\n",
    "metric = evaluate.load(\"accuracy\")\n",
    "\n",
    "# 1. Load and prepare data\n",
    "raw_datasets = load_dataset(\"imdb\")\n",
    "tokenizer = AutoTokenizer.from_pretrained(\"bert-base-uncased\")\n",
    "\n",
    "def tokenize_batch(batch):\n",
    "    return tokenizer(batch[\"text\"], padding=\"max_length\", truncation=True, max_length=256)\n",
    "\n",
    "tokenized = raw_datasets.map(tokenize_batch, batched=True)\n",
    "tokenized = tokenized.rename_column(\"label\", \"labels\")\n",
    "tokenized.set_format(\"torch\", columns=[\"input_ids\",\"attention_mask\",\"labels\"])\n",
    "\n",
    "# 2. Model & Trainer\n",
    "model = AutoModelForSequenceClassification.from_pretrained(\"bert-base-uncased\", num_labels=2)\n",
    "\n",
    "training_args = TrainingArguments(\n",
    "    output_dir=\"./bert-imdb\",\n",
    "    evaluation_strategy=\"epoch\",\n",
    "    per_device_train_batch_size=8,\n",
    "    per_device_eval_batch_size=8,\n",
    "    num_train_epochs=2,\n",
    "    save_total_limit=1,\n",
    "    logging_steps=100,\n",
    ")\n",
    "\n",
    "# metric = load_metric(\"accuracy\")\n",
    "def compute_metrics(eval_pred):\n",
    "    logits, labels = eval_pred\n",
    "    preds = logits.argmax(-1)\n",
    "    return metric.compute(predictions=preds, references=labels)\n",
    "\n",
    "trainer = Trainer(\n",
    "    model=model,\n",
    "    args=training_args,\n",
    "    train_dataset=tokenized[\"train\"],\n",
    "    eval_dataset=tokenized[\"test\"],\n",
    "    compute_metrics=compute_metrics,\n",
    ")\n",
    "\n",
    "# 3. Train & Evaluate\n",
    "trainer.train()\n",
    "results = trainer.evaluate()\n",
    "print(\"BERT IMDB accuracy:\", results[\"eval_accuracy\"])\n"
   ]
  },
  {
   "cell_type": "code",
   "execution_count": 15,
   "id": "1478d1b2-0b71-4013-9c3f-932298fbc4f6",
   "metadata": {},
   "outputs": [
    {
     "name": "stdin",
     "output_type": "stream",
     "text": [
      "The repository for tiny_shakespeare contains custom code which must be executed to correctly load the dataset. You can inspect the repository content at https://hf.co/datasets/tiny_shakespeare.\n",
      "You can avoid this prompt in future by passing the argument `trust_remote_code=True`.\n",
      "\n",
      "Do you wish to run the custom code? [y/N]  y\n"
     ]
    },
    {
     "name": "stderr",
     "output_type": "stream",
     "text": [
      "Downloading data: 100%|██████████| 1.12M/1.12M [00:00<00:00, 1.78MB/s]\n",
      "Generating train split: 100%|██████████| 1/1 [00:00<00:00, 484.83 examples/s]\n",
      "Generating validation split: 100%|██████████| 1/1 [00:00<00:00, 1852.61 examples/s]\n",
      "Generating test split: 100%|██████████| 1/1 [00:00<00:00, 1932.86 examples/s]\n"
     ]
    }
   ],
   "source": [
    "from datasets import load_dataset\n",
    "\n",
    "ds = load_dataset(\"tiny_shakespeare\")\n",
    "with open(\"shakespeare_train.txt\", \"w\", encoding=\"utf-8\") as f:\n",
    "    for example in ds[\"train\"][\"text\"]:\n",
    "        f.write(example + \"\\n\")\n"
   ]
  },
  {
   "cell_type": "code",
   "execution_count": 21,
   "id": "e1125ffd-60fe-4a22-8834-8c7d54c85c7c",
   "metadata": {
    "scrolled": true
   },
   "outputs": [
    {
     "name": "stderr",
     "output_type": "stream",
     "text": [
      "/opt/conda/envs/classifier/lib/python3.10/site-packages/transformers/tokenization_utils_base.py:1617: FutureWarning: `clean_up_tokenization_spaces` was not set. It will be set to `True` by default. This behavior will be deprecated in transformers v4.45, and will be then set to `False` by default. For more details check this issue: https://github.com/huggingface/transformers/issues/31884\n",
      "  warnings.warn(\n",
      "/opt/conda/envs/classifier/lib/python3.10/site-packages/transformers/data/datasets/language_modeling.py:53: FutureWarning: This dataset will be removed from the library soon, preprocessing should be handled with the 🤗 Datasets library. You can have a look at this example script for pointers: https://github.com/huggingface/transformers/blob/main/examples/pytorch/language-modeling/run_mlm.py\n",
      "  warnings.warn(\n"
     ]
    },
    {
     "data": {
      "text/html": [
       "\n",
       "    <div>\n",
       "      \n",
       "      <progress value='1770' max='1770' style='width:300px; height:20px; vertical-align: middle;'></progress>\n",
       "      [1770/1770 00:53, Epoch 3/3]\n",
       "    </div>\n",
       "    <table border=\"1\" class=\"dataframe\">\n",
       "  <thead>\n",
       " <tr style=\"text-align: left;\">\n",
       "      <th>Step</th>\n",
       "      <th>Training Loss</th>\n",
       "    </tr>\n",
       "  </thead>\n",
       "  <tbody>\n",
       "    <tr>\n",
       "      <td>100</td>\n",
       "      <td>4.026000</td>\n",
       "    </tr>\n",
       "    <tr>\n",
       "      <td>200</td>\n",
       "      <td>3.755400</td>\n",
       "    </tr>\n",
       "    <tr>\n",
       "      <td>300</td>\n",
       "      <td>3.668200</td>\n",
       "    </tr>\n",
       "    <tr>\n",
       "      <td>400</td>\n",
       "      <td>3.660200</td>\n",
       "    </tr>\n",
       "    <tr>\n",
       "      <td>500</td>\n",
       "      <td>3.633400</td>\n",
       "    </tr>\n",
       "    <tr>\n",
       "      <td>600</td>\n",
       "      <td>3.542100</td>\n",
       "    </tr>\n",
       "    <tr>\n",
       "      <td>700</td>\n",
       "      <td>3.377600</td>\n",
       "    </tr>\n",
       "    <tr>\n",
       "      <td>800</td>\n",
       "      <td>3.382300</td>\n",
       "    </tr>\n",
       "    <tr>\n",
       "      <td>900</td>\n",
       "      <td>3.375900</td>\n",
       "    </tr>\n",
       "    <tr>\n",
       "      <td>1000</td>\n",
       "      <td>3.386000</td>\n",
       "    </tr>\n",
       "    <tr>\n",
       "      <td>1100</td>\n",
       "      <td>3.370200</td>\n",
       "    </tr>\n",
       "    <tr>\n",
       "      <td>1200</td>\n",
       "      <td>3.348000</td>\n",
       "    </tr>\n",
       "    <tr>\n",
       "      <td>1300</td>\n",
       "      <td>3.275700</td>\n",
       "    </tr>\n",
       "    <tr>\n",
       "      <td>1400</td>\n",
       "      <td>3.233300</td>\n",
       "    </tr>\n",
       "    <tr>\n",
       "      <td>1500</td>\n",
       "      <td>3.271400</td>\n",
       "    </tr>\n",
       "    <tr>\n",
       "      <td>1600</td>\n",
       "      <td>3.227200</td>\n",
       "    </tr>\n",
       "    <tr>\n",
       "      <td>1700</td>\n",
       "      <td>3.220000</td>\n",
       "    </tr>\n",
       "  </tbody>\n",
       "</table><p>"
      ],
      "text/plain": [
       "<IPython.core.display.HTML object>"
      ]
     },
     "metadata": {},
     "output_type": "display_data"
    },
    {
     "name": "stderr",
     "output_type": "stream",
     "text": [
      "Setting `pad_token_id` to `eos_token_id`:None for open-end generation.\n"
     ]
    },
    {
     "name": "stdout",
     "output_type": "stream",
     "text": [
      "To be or not to be?\n",
      "\n",
      "DUKE VINCENTIO:\n",
      "I do not know, sir, but I know not what to say;\n",
      "But, if you will, I'll tell you what you must\n",
      "say; and I will not be so bold as to speak.\n",
      "What is the matter, then, that you are to-day,\n",
      "To-morrow, or next day, when you shall be come to\n",
      "the city? What is your purpose,\n"
     ]
    }
   ],
   "source": [
    "import torch\n",
    "from transformers import GPT2LMHeadModel, GPT2TokenizerFast, TextDataset, DataCollatorForLanguageModeling, Trainer, TrainingArguments\n",
    "\n",
    "# Set device (GPU if available, else CPU)\n",
    "device = torch.device(\"cuda\" if torch.cuda.is_available() else \"cpu\")\n",
    "\n",
    "# Load tokenizer and model\n",
    "tokenizer = GPT2TokenizerFast.from_pretrained(\"gpt2\")\n",
    "model = GPT2LMHeadModel.from_pretrained(\"gpt2\").to(device)  # Move model to device\n",
    "\n",
    "# Load dataset\n",
    "train_dataset = TextDataset(\n",
    "    tokenizer=tokenizer,\n",
    "    file_path=\"shakespeare_train.txt\",\n",
    "    block_size=128\n",
    ")\n",
    "\n",
    "# Data collator for language modeling\n",
    "data_collator = DataCollatorForLanguageModeling(\n",
    "    tokenizer=tokenizer,\n",
    "    mlm=False\n",
    ")\n",
    "\n",
    "# Training arguments\n",
    "training_args = TrainingArguments(\n",
    "    output_dir=\"./gpt2-shakespeare\",\n",
    "    overwrite_output_dir=True,\n",
    "    num_train_epochs=3,\n",
    "    per_device_train_batch_size=4,\n",
    "    save_steps=500,\n",
    "    save_total_limit=2,\n",
    "    logging_steps=100,\n",
    "    fp16=torch.cuda.is_available(),  \n",
    ")\n",
    "\n",
    "# Initialize trainer\n",
    "trainer = Trainer(\n",
    "    model=model,\n",
    "    args=training_args,\n",
    "    data_collator=data_collator,\n",
    "    train_dataset=train_dataset\n",
    ")\n",
    "\n",
    "# Train the model\n",
    "trainer.train()\n",
    "\n",
    "# Save the model and tokenizer\n",
    "trainer.save_model(\"./gpt2-shakespeare\")\n",
    "tokenizer.save_pretrained(\"./gpt2-shakespeare\")\n",
    "\n",
    "# Generate text\n",
    "prompt = \"To be or not to be\"\n",
    "inputs = tokenizer(prompt, return_tensors=\"pt\").to(device)  # Move inputs to device\n",
    "outputs = model.generate(\n",
    "    **inputs,\n",
    "    max_length=100,\n",
    "    num_beams=5,\n",
    "    no_repeat_ngram_size=2,\n",
    "    early_stopping=True\n",
    ")\n",
    "\n",
    "# Decode and print the generated text\n",
    "print(tokenizer.decode(outputs[0], skip_special_tokens=True))"
   ]
  },
  {
   "cell_type": "code",
   "execution_count": 24,
   "id": "aa8e6204-7a9c-41d2-a06a-e7e0de0ccbe0",
   "metadata": {},
   "outputs": [
    {
     "name": "stderr",
     "output_type": "stream",
     "text": [
      "You are using the default legacy behaviour of the <class 'transformers.models.t5.tokenization_t5.T5Tokenizer'>. This is expected, and simply means that the `legacy` (previous) behavior will be used so nothing changes for you. If you want to use the new behaviour, set `legacy=False`. This should only be set if you understand what it means, and thoroughly read the reason why this was added as explained in https://github.com/huggingface/transformers/pull/24565\n",
      "/opt/conda/envs/classifier/lib/python3.10/site-packages/transformers/training_args.py:1545: FutureWarning: `evaluation_strategy` is deprecated and will be removed in version 4.46 of 🤗 Transformers. Use `eval_strategy` instead\n",
      "  warnings.warn(\n"
     ]
    },
    {
     "data": {
      "text/html": [
       "\n",
       "    <div>\n",
       "      \n",
       "      <progress value='5687' max='5687' style='width:300px; height:20px; vertical-align: middle;'></progress>\n",
       "      [5687/5687 02:31, Epoch 1/1]\n",
       "    </div>\n",
       "    <table border=\"1\" class=\"dataframe\">\n",
       "  <thead>\n",
       " <tr style=\"text-align: left;\">\n",
       "      <th>Step</th>\n",
       "      <th>Training Loss</th>\n",
       "    </tr>\n",
       "  </thead>\n",
       "  <tbody>\n",
       "    <tr>\n",
       "      <td>500</td>\n",
       "      <td>1.227100</td>\n",
       "    </tr>\n",
       "    <tr>\n",
       "      <td>1000</td>\n",
       "      <td>0.647600</td>\n",
       "    </tr>\n",
       "    <tr>\n",
       "      <td>1500</td>\n",
       "      <td>0.630100</td>\n",
       "    </tr>\n",
       "    <tr>\n",
       "      <td>2000</td>\n",
       "      <td>0.613400</td>\n",
       "    </tr>\n",
       "    <tr>\n",
       "      <td>2500</td>\n",
       "      <td>0.595600</td>\n",
       "    </tr>\n",
       "    <tr>\n",
       "      <td>3000</td>\n",
       "      <td>0.598800</td>\n",
       "    </tr>\n",
       "    <tr>\n",
       "      <td>3500</td>\n",
       "      <td>0.595900</td>\n",
       "    </tr>\n",
       "    <tr>\n",
       "      <td>4000</td>\n",
       "      <td>0.589400</td>\n",
       "    </tr>\n",
       "    <tr>\n",
       "      <td>4500</td>\n",
       "      <td>0.579800</td>\n",
       "    </tr>\n",
       "    <tr>\n",
       "      <td>5000</td>\n",
       "      <td>0.577000</td>\n",
       "    </tr>\n",
       "    <tr>\n",
       "      <td>5500</td>\n",
       "      <td>0.575300</td>\n",
       "    </tr>\n",
       "  </tbody>\n",
       "</table><p>"
      ],
      "text/plain": [
       "<IPython.core.display.HTML object>"
      ]
     },
     "metadata": {},
     "output_type": "display_data"
    },
    {
     "data": {
      "text/plain": [
       "TrainOutput(global_step=5687, training_loss=0.6545496256925403, metrics={'train_runtime': 151.6267, 'train_samples_per_second': 300.007, 'train_steps_per_second': 37.507, 'total_flos': 1539140801789952.0, 'train_loss': 0.6545496256925403, 'epoch': 1.0})"
      ]
     },
     "execution_count": 24,
     "metadata": {},
     "output_type": "execute_result"
    }
   ],
   "source": [
    "import torch\n",
    "from datasets import load_dataset\n",
    "from transformers import T5Tokenizer, T5ForConditionalGeneration, Trainer, TrainingArguments\n",
    "\n",
    "# Set device (GPU if available, else CPU)\n",
    "device = torch.device(\"cuda\" if torch.cuda.is_available() else \"cpu\")\n",
    "\n",
    "# 1. Load dataset and models\n",
    "raw = load_dataset(\"wmt16\", \"de-en\", split=\"train[:1%]\")\n",
    "tokenizer = T5Tokenizer.from_pretrained(\"t5-small\")\n",
    "model = T5ForConditionalGeneration.from_pretrained(\"t5-small\").to(device)  # Move model to device\n",
    "\n",
    "# 2. Preprocess for translation\n",
    "def preprocess(batch):\n",
    "    inputs = [\"translate German to English: \" + ex[\"de\"] for ex in batch[\"translation\"]]\n",
    "    targets = [ex[\"en\"] for ex in batch[\"translation\"]]\n",
    "    model_inputs = tokenizer(inputs, max_length=128, truncation=True, padding=\"max_length\")\n",
    "    labels = tokenizer(targets, max_length=128, truncation=True, padding=\"max_length\")\n",
    "    model_inputs[\"labels\"] = labels[\"input_ids\"]\n",
    "    return model_inputs\n",
    "\n",
    "tokenized = raw.map(preprocess, batched=True)\n",
    "tokenized.set_format(\"torch\", columns=[\"input_ids\", \"attention_mask\", \"labels\"])\n",
    "\n",
    "# 3. Trainer setup\n",
    "training_args = TrainingArguments(\n",
    "    output_dir=\"./t5-wmt16\",\n",
    "    evaluation_strategy=\"no\",\n",
    "    per_device_train_batch_size=8,\n",
    "    num_train_epochs=1,\n",
    "    save_total_limit=1,\n",
    "    fp16=torch.cuda.is_available(),  # Enable mixed precision if GPU is available\n",
    ")\n",
    "\n",
    "trainer = Trainer(\n",
    "    model=model,\n",
    "    args=training_args,\n",
    "    train_dataset=tokenized,\n",
    ")\n",
    "\n",
    "# 4. Train the model\n",
    "trainer.train()\n",
    "\n"
   ]
  },
  {
   "cell_type": "code",
   "execution_count": 47,
   "id": "b4c79721-ccbe-4a76-9448-50fa9d5e4ea5",
   "metadata": {},
   "outputs": [
    {
     "name": "stdout",
     "output_type": "stream",
     "text": [
      "T5 translation: Hallo, my name is Alikhan, I have a Bachelor' s degree in the KBTU.\n"
     ]
    }
   ],
   "source": [
    "# 5. Translation example\n",
    "sample = \"Hallo! Mein Name ist Alikhan, ich habe einen Bachelor-Abschluss an der KBTU\"\n",
    "inputs = tokenizer(\"translate German to English: \" + sample, return_tensors=\"pt\")\n",
    "inputs = {k: v.to(device) for k, v in inputs.items()}  \n",
    "translated = model.generate(**inputs, max_length=60)\n",
    "print(\"T5 translation:\", tokenizer.decode(translated[0], skip_special_tokens=True))\n"
   ]
  },
  {
   "cell_type": "code",
   "execution_count": 41,
   "id": "812d9ba5-7b57-4f4f-a7c6-212fa97740d0",
   "metadata": {},
   "outputs": [
    {
     "name": "stdout",
     "output_type": "stream",
     "text": [
      "T5 summary: abai pondered life, people, and the meaning of existence. he continued writing until evening, unaware of the sun sinking behind the horizon.\n"
     ]
    }
   ],
   "source": [
    "# 6. Summarization example\n",
    "summ_model = T5ForConditionalGeneration.from_pretrained(\"t5-small\").to(device)  # Move summarization model to device\n",
    "text = \"\"\"Abai walked across the steppe, his eyes fixed on the horizon where the earth and sky met. \n",
    "He stopped by a small stream and bent down to drink from it.\n",
    "With each step, his thoughts became clearer, as he pondered life, people, and the meaning of existence. \n",
    "Soon, Abai took out a scroll and began to write. \n",
    "His pen glided across the paper, and words full of deep meaning formed into lines. \n",
    "He continued writing until evening, unaware of the sun sinking behind the horizon.\"\"\"\n",
    "\n",
    "inp = tokenizer(\n",
    "    \"summarize: \" + text,\n",
    "    return_tensors=\"pt\",\n",
    "    truncation=True,\n",
    "    padding=\"max_length\",\n",
    "    max_length=128  # Increased to accommodate longer input\n",
    ")\n",
    "\n",
    "# Move inputs to device\n",
    "inp = {k: v.to(device) for k, v in inp.items()}\n",
    "\n",
    "# Generate summary with longer max_length\n",
    "summary = summ_model.generate(\n",
    "    **inp,\n",
    "    max_length=50,  # Increased for longer summary\n",
    "    num_beams=4,    # Beam search for better quality\n",
    "    no_repeat_ngram_size=2,  # Prevent repetition\n",
    "    early_stopping=True\n",
    ")\n",
    "\n",
    "# Decode and print the summary\n",
    "print(\"T5 summary:\", tokenizer.decode(summary[0], skip_special_tokens=True))"
   ]
  },
  {
   "cell_type": "markdown",
   "id": "c27229de-7ee4-4c81-b68d-c9ec84c5ff82",
   "metadata": {},
   "source": [
    "# Task 5\n"
   ]
  },
  {
   "cell_type": "code",
   "execution_count": 1,
   "id": "ce776ca1-a594-40cd-8af0-3aed8bd91776",
   "metadata": {},
   "outputs": [
    {
     "name": "stdout",
     "output_type": "stream",
     "text": [
      "spaCy NER Results (en_core_web_sm):\n",
      "Alikhan Zhamankhan   PERSON         \n",
      "KBTU                 ORG            \n"
     ]
    },
    {
     "data": {
      "text/html": [
       "<span class=\"tex2jax_ignore\"><div class=\"entities\" style=\"line-height: 2.5; direction: ltr\">My name is \n",
       "<mark class=\"entity\" style=\"background: #aa9cfc; padding: 0.45em 0.6em; margin: 0 0.25em; line-height: 1; border-radius: 0.35em;\">\n",
       "    Alikhan Zhamankhan\n",
       "    <span style=\"font-size: 0.8em; font-weight: bold; line-height: 1; border-radius: 0.35em; vertical-align: middle; margin-left: 0.5rem\">PERSON</span>\n",
       "</mark>\n",
       " and currently I study at \n",
       "<mark class=\"entity\" style=\"background: #7aecec; padding: 0.45em 0.6em; margin: 0 0.25em; line-height: 1; border-radius: 0.35em;\">\n",
       "    KBTU\n",
       "    <span style=\"font-size: 0.8em; font-weight: bold; line-height: 1; border-radius: 0.35em; vertical-align: middle; margin-left: 0.5rem\">ORG</span>\n",
       "</mark>\n",
       "</div></span>"
      ],
      "text/plain": [
       "<IPython.core.display.HTML object>"
      ]
     },
     "metadata": {},
     "output_type": "display_data"
    }
   ],
   "source": [
    "import spacy\n",
    "from spacy import displacy\n",
    "\n",
    "nlp_sm = spacy.load(\"en_core_web_sm\")\n",
    "\n",
    "text = \"My name is Alikhan Zhamankhan and currently I study at KBTU\"\n",
    "\n",
    "doc = nlp_sm(text)\n",
    "\n",
    "print(\"spaCy NER Results (en_core_web_sm):\")\n",
    "for ent in doc.ents:\n",
    "    print(f\"{ent.text:<20} {ent.label_:<15}\")\n",
    "\n",
    "# Visualize the entities\n",
    "displacy.render(doc, style=\"ent\", jupyter=True)"
   ]
  },
  {
   "cell_type": "code",
   "execution_count": 2,
   "id": "cf20baa8-cdcc-4ff3-88e7-0be9a64ddcec",
   "metadata": {},
   "outputs": [
    {
     "name": "stderr",
     "output_type": "stream",
     "text": [
      "/opt/conda/envs/classifier/lib/python3.10/site-packages/tqdm/auto.py:21: TqdmWarning: IProgress not found. Please update jupyter and ipywidgets. See https://ipywidgets.readthedocs.io/en/stable/user_install.html\n",
      "  from .autonotebook import tqdm as notebook_tqdm\n",
      "/opt/conda/envs/classifier/lib/python3.10/site-packages/transformers/tokenization_utils_base.py:1617: FutureWarning: `clean_up_tokenization_spaces` was not set. It will be set to `True` by default. This behavior will be deprecated in transformers v4.45, and will be then set to `False` by default. For more details check this issue: https://github.com/huggingface/transformers/issues/31884\n",
      "  warnings.warn(\n"
     ]
    }
   ],
   "source": [
    "from transformers import AutoTokenizer, AutoModelForTokenClassification, TrainingArguments, Trainer\n",
    "from transformers import DataCollatorForTokenClassification\n",
    "from datasets import load_dataset\n",
    "import evaluate\n",
    "import numpy as np\n",
    "\n",
    "# Load dataset\n",
    "dataset = load_dataset(\"conll2003\")\n",
    "label_list = dataset[\"train\"].features[\"ner_tags\"].feature.names\n",
    "\n",
    "# Preprocess function\n",
    "tokenizer = AutoTokenizer.from_pretrained(\"bert-base-cased\")\n",
    "\n",
    "def tokenize_and_align_labels(examples):\n",
    "    tokenized_inputs = tokenizer(examples[\"tokens\"], truncation=True, is_split_into_words=True)\n",
    "    \n",
    "    labels = []\n",
    "    for i, label in enumerate(examples[\"ner_tags\"]):\n",
    "        word_ids = tokenized_inputs.word_ids(batch_index=i)\n",
    "        previous_word_idx = None\n",
    "        label_ids = []\n",
    "        for word_idx in word_ids:\n",
    "            if word_idx is None:\n",
    "                label_ids.append(-100)\n",
    "            elif word_idx != previous_word_idx:\n",
    "                label_ids.append(label[word_idx])\n",
    "            else:\n",
    "                label_ids.append(-100)\n",
    "            previous_word_idx = word_idx\n",
    "        labels.append(label_ids)\n",
    "    \n",
    "    tokenized_inputs[\"labels\"] = labels\n",
    "    return tokenized_inputs"
   ]
  },
  {
   "cell_type": "code",
   "execution_count": 3,
   "id": "878d4b6a-89af-491e-b1ff-2517e4009b1e",
   "metadata": {},
   "outputs": [
    {
     "name": "stderr",
     "output_type": "stream",
     "text": [
      "Some weights of BertForTokenClassification were not initialized from the model checkpoint at bert-base-cased and are newly initialized: ['classifier.bias', 'classifier.weight']\n",
      "You should probably TRAIN this model on a down-stream task to be able to use it for predictions and inference.\n",
      "/opt/conda/envs/classifier/lib/python3.10/site-packages/transformers/training_args.py:1545: FutureWarning: `evaluation_strategy` is deprecated and will be removed in version 4.46 of 🤗 Transformers. Use `eval_strategy` instead\n",
      "  warnings.warn(\n"
     ]
    }
   ],
   "source": [
    "# Tokenize dataset\n",
    "tokenized_datasets = dataset.map(tokenize_and_align_labels, batched=True)\n",
    "\n",
    "# Load model\n",
    "model = AutoModelForTokenClassification.from_pretrained(\n",
    "    \"bert-base-cased\", \n",
    "    num_labels=9,\n",
    "    id2label={0: \"O\", 1: \"B-PER\", 2: \"I-PER\", 3: \"B-ORG\", 4: \"I-ORG\", \n",
    "              5: \"B-LOC\", 6: \"I-LOC\", 7: \"B-MISC\", 8: \"I-MISC\"},\n",
    "    label2id={\"O\": 0, \"B-PER\": 1, \"I-PER\": 2, \"B-ORG\": 3, \"I-ORG\": 4, \n",
    "              \"B-LOC\": 5, \"I-LOC\": 6, \"B-MISC\": 7, \"I-MISC\": 8}\n",
    ")\n",
    "\n",
    "# Training arguments\n",
    "training_args = TrainingArguments(\n",
    "    output_dir=\"./ner_results\",\n",
    "    evaluation_strategy=\"epoch\",\n",
    "    learning_rate=2e-5,\n",
    "    per_device_train_batch_size=16,\n",
    "    per_device_eval_batch_size=16,\n",
    "    num_train_epochs=3,\n",
    "    weight_decay=0.01,\n",
    "    save_strategy=\"no\",\n",
    "    logging_dir='./logs',\n",
    ")\n",
    "\n",
    "# Metrics\n",
    "seqeval = evaluate.load(\"seqeval\")"
   ]
  },
  {
   "cell_type": "code",
   "execution_count": 4,
   "id": "c6c139e8-6655-4fd2-9e2c-d318223040bc",
   "metadata": {},
   "outputs": [],
   "source": [
    "def compute_metrics(p):\n",
    "    predictions, labels = p\n",
    "    predictions = np.argmax(predictions, axis=2)\n",
    "\n",
    "    true_predictions = [\n",
    "        [label_list[p] for (p, l) in zip(prediction, label) if l != -100]\n",
    "        for prediction, label in zip(predictions, labels)\n",
    "    ]\n",
    "    true_labels = [\n",
    "        [label_list[l] for (p, l) in zip(prediction, label) if l != -100]\n",
    "        for prediction, label in zip(predictions, labels)\n",
    "    ]\n",
    "\n",
    "    results = seqeval.compute(predictions=true_predictions, references=true_labels)\n",
    "    return {\n",
    "        \"precision\": results[\"overall_precision\"],\n",
    "        \"recall\": results[\"overall_recall\"],\n",
    "        \"f1\": results[\"overall_f1\"],\n",
    "        \"accuracy\": results[\"overall_accuracy\"],\n",
    "    }\n",
    "\n",
    "data_collator = DataCollatorForTokenClassification(tokenizer)\n",
    "\n",
    "# Trainer\n",
    "trainer = Trainer(\n",
    "    model=model,\n",
    "    args=training_args,\n",
    "    train_dataset=tokenized_datasets[\"train\"],\n",
    "    eval_dataset=tokenized_datasets[\"validation\"],\n",
    "    data_collator=data_collator,\n",
    "    tokenizer=tokenizer,\n",
    "    compute_metrics=compute_metrics,\n",
    ")\n",
    "\n"
   ]
  },
  {
   "cell_type": "code",
   "execution_count": 5,
   "id": "badf7a85-c7e6-41df-b0a0-615f7c820dba",
   "metadata": {
    "scrolled": true
   },
   "outputs": [
    {
     "name": "stderr",
     "output_type": "stream",
     "text": [
      "\u001b[34m\u001b[1mwandb\u001b[0m: \u001b[33mWARNING\u001b[0m The `run_name` is currently set to the same value as `TrainingArguments.output_dir`. If this was not intended, please specify a different run name by setting the `TrainingArguments.run_name` parameter.\n",
      "Failed to detect the name of this notebook, you can set it manually with the WANDB_NOTEBOOK_NAME environment variable to enable code saving.\n",
      "\u001b[34m\u001b[1mwandb\u001b[0m: Using wandb-core as the SDK backend. Please refer to https://wandb.me/wandb-core for more information.\n",
      "\u001b[34m\u001b[1mwandb\u001b[0m: Currently logged in as: \u001b[33malihan-zhamankhan\u001b[0m (\u001b[33malihan-zhamankhan-kazakh-british-technical-university\u001b[0m). Use \u001b[1m`wandb login --relogin`\u001b[0m to force relogin\n"
     ]
    },
    {
     "data": {
      "text/html": [
       "Tracking run with wandb version 0.18.1"
      ],
      "text/plain": [
       "<IPython.core.display.HTML object>"
      ]
     },
     "metadata": {},
     "output_type": "display_data"
    },
    {
     "data": {
      "text/html": [
       "Run data is saved locally in <code>/home/jovyan/work/_shared/alikhan/final/wandb/run-20250504_144506-rarmozq5</code>"
      ],
      "text/plain": [
       "<IPython.core.display.HTML object>"
      ]
     },
     "metadata": {},
     "output_type": "display_data"
    },
    {
     "data": {
      "text/html": [
       "Syncing run <strong><a href='https://wandb.ai/alihan-zhamankhan-kazakh-british-technical-university/huggingface/runs/rarmozq5' target=\"_blank\">./ner_results</a></strong> to <a href='https://wandb.ai/alihan-zhamankhan-kazakh-british-technical-university/huggingface' target=\"_blank\">Weights & Biases</a> (<a href='https://wandb.me/run' target=\"_blank\">docs</a>)<br/>"
      ],
      "text/plain": [
       "<IPython.core.display.HTML object>"
      ]
     },
     "metadata": {},
     "output_type": "display_data"
    },
    {
     "data": {
      "text/html": [
       " View project at <a href='https://wandb.ai/alihan-zhamankhan-kazakh-british-technical-university/huggingface' target=\"_blank\">https://wandb.ai/alihan-zhamankhan-kazakh-british-technical-university/huggingface</a>"
      ],
      "text/plain": [
       "<IPython.core.display.HTML object>"
      ]
     },
     "metadata": {},
     "output_type": "display_data"
    },
    {
     "data": {
      "text/html": [
       " View run at <a href='https://wandb.ai/alihan-zhamankhan-kazakh-british-technical-university/huggingface/runs/rarmozq5' target=\"_blank\">https://wandb.ai/alihan-zhamankhan-kazakh-british-technical-university/huggingface/runs/rarmozq5</a>"
      ],
      "text/plain": [
       "<IPython.core.display.HTML object>"
      ]
     },
     "metadata": {},
     "output_type": "display_data"
    },
    {
     "data": {
      "text/html": [
       "\n",
       "    <div>\n",
       "      \n",
       "      <progress value='2634' max='2634' style='width:300px; height:20px; vertical-align: middle;'></progress>\n",
       "      [2634/2634 01:22, Epoch 3/3]\n",
       "    </div>\n",
       "    <table border=\"1\" class=\"dataframe\">\n",
       "  <thead>\n",
       " <tr style=\"text-align: left;\">\n",
       "      <th>Epoch</th>\n",
       "      <th>Training Loss</th>\n",
       "      <th>Validation Loss</th>\n",
       "      <th>Precision</th>\n",
       "      <th>Recall</th>\n",
       "      <th>F1</th>\n",
       "      <th>Accuracy</th>\n",
       "    </tr>\n",
       "  </thead>\n",
       "  <tbody>\n",
       "    <tr>\n",
       "      <td>1</td>\n",
       "      <td>0.163100</td>\n",
       "      <td>0.041844</td>\n",
       "      <td>0.922898</td>\n",
       "      <td>0.934702</td>\n",
       "      <td>0.928763</td>\n",
       "      <td>0.988474</td>\n",
       "    </tr>\n",
       "    <tr>\n",
       "      <td>2</td>\n",
       "      <td>0.027500</td>\n",
       "      <td>0.036939</td>\n",
       "      <td>0.943766</td>\n",
       "      <td>0.949007</td>\n",
       "      <td>0.946379</td>\n",
       "      <td>0.990888</td>\n",
       "    </tr>\n",
       "    <tr>\n",
       "      <td>3</td>\n",
       "      <td>0.014300</td>\n",
       "      <td>0.036835</td>\n",
       "      <td>0.941529</td>\n",
       "      <td>0.951195</td>\n",
       "      <td>0.946337</td>\n",
       "      <td>0.991083</td>\n",
       "    </tr>\n",
       "  </tbody>\n",
       "</table><p>"
      ],
      "text/plain": [
       "<IPython.core.display.HTML object>"
      ]
     },
     "metadata": {},
     "output_type": "display_data"
    },
    {
     "data": {
      "text/plain": [
       "TrainOutput(global_step=2634, training_loss=0.05211059234317904, metrics={'train_runtime': 84.1895, 'train_samples_per_second': 500.335, 'train_steps_per_second': 31.287, 'total_flos': 1050534559887048.0, 'train_loss': 0.05211059234317904, 'epoch': 3.0})"
      ]
     },
     "execution_count": 5,
     "metadata": {},
     "output_type": "execute_result"
    }
   ],
   "source": [
    "# Train the model\n",
    "trainer.train()\n",
    "\n"
   ]
  },
  {
   "cell_type": "code",
   "execution_count": 7,
   "id": "9ec9fc1a-e186-4bb9-bfc9-f9dcede3602c",
   "metadata": {},
   "outputs": [
    {
     "name": "stderr",
     "output_type": "stream",
     "text": [
      "Hardware accelerator e.g. GPU is available in the environment, but no `device` argument is passed to the `Pipeline` object. Model will be on CPU.\n"
     ]
    },
    {
     "name": "stdout",
     "output_type": "stream",
     "text": [
      "BERT NER Evaluation Results:\n",
      "Precision: 0.942\n",
      "Recall: 0.951\n",
      "F1 Score: 0.946\n",
      "Accuracy: 0.991\n",
      "\n",
      "BERT NER Results:\n",
      "Kaspi kz             ORG             0.98\n",
      "Jusan                ORG             0.81\n"
     ]
    }
   ],
   "source": [
    "# Evaluate\n",
    "eval_results = trainer.evaluate()\n",
    "print(\"BERT NER Evaluation Results:\")\n",
    "print(f\"Precision: {eval_results['eval_precision']:.3f}\")\n",
    "print(f\"Recall: {eval_results['eval_recall']:.3f}\")\n",
    "print(f\"F1 Score: {eval_results['eval_f1']:.3f}\")\n",
    "print(f\"Accuracy: {eval_results['eval_accuracy']:.3f}\")\n",
    "\n",
    "# Inference with the fine-tuned model\n",
    "from transformers import pipeline\n",
    "\n",
    "ner_pipeline = pipeline(\n",
    "    \"ner\", \n",
    "    model=model, \n",
    "    tokenizer=tokenizer,\n",
    "    aggregation_strategy=\"simple\"\n",
    ")\n",
    "\n",
    "sample_text = \"Kaspi kz is looking buying Jusan for 1 billion dollars in 2024\"\n",
    "results = ner_pipeline(sample_text)\n",
    "\n",
    "print(\"\\nBERT NER Results:\")\n",
    "for entity in results:\n",
    "    print(f\"{entity['word']:<20} {entity['entity_group']:<15} {entity['score']:.2f}\")"
   ]
  },
  {
   "cell_type": "markdown",
   "id": "33905e5f-982f-4564-9b01-d3ed7dbdbb98",
   "metadata": {},
   "source": [
    "# Pos tagging"
   ]
  },
  {
   "cell_type": "code",
   "execution_count": 7,
   "id": "5d9ec3ae-c8be-4bb9-b8ff-2d2fbcd3ffed",
   "metadata": {},
   "outputs": [
    {
     "name": "stdout",
     "output_type": "stream",
     "text": [
      "spaCy POS Tagging Results (en_core_web_trf):\n",
      "Token           POS        Tag        Dependency     \n",
      "Alikhan         PROPN      NNP        nsubj          \n",
      "were            AUX        VBD        aux            \n",
      "running         VERB       VBG        ROOT           \n",
      "on              ADP        IN         prep           \n",
      "marathon        NOUN       NN         pobj           \n",
      "and             CCONJ      CC         cc             \n",
      "tried           VERB       VBD        conj           \n",
      "to              PART       TO         aux            \n",
      "complete        VERB       VB         xcomp          \n",
      "it              PRON       PRP        dobj           \n"
     ]
    },
    {
     "data": {
      "text/html": [
       "<span class=\"tex2jax_ignore\"><svg xmlns=\"http://www.w3.org/2000/svg\" xmlns:xlink=\"http://www.w3.org/1999/xlink\" xml:lang=\"en\" id=\"8f2422b2cd6046db9618abd54e3270bd-0\" class=\"displacy\" width=\"1800\" height=\"399.5\" direction=\"ltr\" style=\"max-width: none; height: 399.5px; color: #000000; background: #ffffff; font-family: Arial; direction: ltr\">\n",
       "<text class=\"displacy-token\" fill=\"currentColor\" text-anchor=\"middle\" y=\"309.5\">\n",
       "    <tspan class=\"displacy-word\" fill=\"currentColor\" x=\"50\">Alikhan</tspan>\n",
       "    <tspan class=\"displacy-tag\" dy=\"2em\" fill=\"currentColor\" x=\"50\">PROPN</tspan>\n",
       "</text>\n",
       "\n",
       "<text class=\"displacy-token\" fill=\"currentColor\" text-anchor=\"middle\" y=\"309.5\">\n",
       "    <tspan class=\"displacy-word\" fill=\"currentColor\" x=\"225\">were</tspan>\n",
       "    <tspan class=\"displacy-tag\" dy=\"2em\" fill=\"currentColor\" x=\"225\">AUX</tspan>\n",
       "</text>\n",
       "\n",
       "<text class=\"displacy-token\" fill=\"currentColor\" text-anchor=\"middle\" y=\"309.5\">\n",
       "    <tspan class=\"displacy-word\" fill=\"currentColor\" x=\"400\">running</tspan>\n",
       "    <tspan class=\"displacy-tag\" dy=\"2em\" fill=\"currentColor\" x=\"400\">VERB</tspan>\n",
       "</text>\n",
       "\n",
       "<text class=\"displacy-token\" fill=\"currentColor\" text-anchor=\"middle\" y=\"309.5\">\n",
       "    <tspan class=\"displacy-word\" fill=\"currentColor\" x=\"575\">on</tspan>\n",
       "    <tspan class=\"displacy-tag\" dy=\"2em\" fill=\"currentColor\" x=\"575\">ADP</tspan>\n",
       "</text>\n",
       "\n",
       "<text class=\"displacy-token\" fill=\"currentColor\" text-anchor=\"middle\" y=\"309.5\">\n",
       "    <tspan class=\"displacy-word\" fill=\"currentColor\" x=\"750\">marathon</tspan>\n",
       "    <tspan class=\"displacy-tag\" dy=\"2em\" fill=\"currentColor\" x=\"750\">NOUN</tspan>\n",
       "</text>\n",
       "\n",
       "<text class=\"displacy-token\" fill=\"currentColor\" text-anchor=\"middle\" y=\"309.5\">\n",
       "    <tspan class=\"displacy-word\" fill=\"currentColor\" x=\"925\">and</tspan>\n",
       "    <tspan class=\"displacy-tag\" dy=\"2em\" fill=\"currentColor\" x=\"925\">CCONJ</tspan>\n",
       "</text>\n",
       "\n",
       "<text class=\"displacy-token\" fill=\"currentColor\" text-anchor=\"middle\" y=\"309.5\">\n",
       "    <tspan class=\"displacy-word\" fill=\"currentColor\" x=\"1100\">tried</tspan>\n",
       "    <tspan class=\"displacy-tag\" dy=\"2em\" fill=\"currentColor\" x=\"1100\">VERB</tspan>\n",
       "</text>\n",
       "\n",
       "<text class=\"displacy-token\" fill=\"currentColor\" text-anchor=\"middle\" y=\"309.5\">\n",
       "    <tspan class=\"displacy-word\" fill=\"currentColor\" x=\"1275\">to</tspan>\n",
       "    <tspan class=\"displacy-tag\" dy=\"2em\" fill=\"currentColor\" x=\"1275\">PART</tspan>\n",
       "</text>\n",
       "\n",
       "<text class=\"displacy-token\" fill=\"currentColor\" text-anchor=\"middle\" y=\"309.5\">\n",
       "    <tspan class=\"displacy-word\" fill=\"currentColor\" x=\"1450\">complete</tspan>\n",
       "    <tspan class=\"displacy-tag\" dy=\"2em\" fill=\"currentColor\" x=\"1450\">VERB</tspan>\n",
       "</text>\n",
       "\n",
       "<text class=\"displacy-token\" fill=\"currentColor\" text-anchor=\"middle\" y=\"309.5\">\n",
       "    <tspan class=\"displacy-word\" fill=\"currentColor\" x=\"1625\">it</tspan>\n",
       "    <tspan class=\"displacy-tag\" dy=\"2em\" fill=\"currentColor\" x=\"1625\">PRON</tspan>\n",
       "</text>\n",
       "\n",
       "<g class=\"displacy-arrow\">\n",
       "    <path class=\"displacy-arc\" id=\"arrow-8f2422b2cd6046db9618abd54e3270bd-0-0\" stroke-width=\"2px\" d=\"M70,264.5 C70,89.5 395.0,89.5 395.0,264.5\" fill=\"none\" stroke=\"currentColor\"/>\n",
       "    <text dy=\"1.25em\" style=\"font-size: 0.8em; letter-spacing: 1px\">\n",
       "        <textPath xlink:href=\"#arrow-8f2422b2cd6046db9618abd54e3270bd-0-0\" class=\"displacy-label\" startOffset=\"50%\" side=\"left\" fill=\"currentColor\" text-anchor=\"middle\">nsubj</textPath>\n",
       "    </text>\n",
       "    <path class=\"displacy-arrowhead\" d=\"M70,266.5 L62,254.5 78,254.5\" fill=\"currentColor\"/>\n",
       "</g>\n",
       "\n",
       "<g class=\"displacy-arrow\">\n",
       "    <path class=\"displacy-arc\" id=\"arrow-8f2422b2cd6046db9618abd54e3270bd-0-1\" stroke-width=\"2px\" d=\"M245,264.5 C245,177.0 390.0,177.0 390.0,264.5\" fill=\"none\" stroke=\"currentColor\"/>\n",
       "    <text dy=\"1.25em\" style=\"font-size: 0.8em; letter-spacing: 1px\">\n",
       "        <textPath xlink:href=\"#arrow-8f2422b2cd6046db9618abd54e3270bd-0-1\" class=\"displacy-label\" startOffset=\"50%\" side=\"left\" fill=\"currentColor\" text-anchor=\"middle\">aux</textPath>\n",
       "    </text>\n",
       "    <path class=\"displacy-arrowhead\" d=\"M245,266.5 L237,254.5 253,254.5\" fill=\"currentColor\"/>\n",
       "</g>\n",
       "\n",
       "<g class=\"displacy-arrow\">\n",
       "    <path class=\"displacy-arc\" id=\"arrow-8f2422b2cd6046db9618abd54e3270bd-0-2\" stroke-width=\"2px\" d=\"M420,264.5 C420,177.0 565.0,177.0 565.0,264.5\" fill=\"none\" stroke=\"currentColor\"/>\n",
       "    <text dy=\"1.25em\" style=\"font-size: 0.8em; letter-spacing: 1px\">\n",
       "        <textPath xlink:href=\"#arrow-8f2422b2cd6046db9618abd54e3270bd-0-2\" class=\"displacy-label\" startOffset=\"50%\" side=\"left\" fill=\"currentColor\" text-anchor=\"middle\">prep</textPath>\n",
       "    </text>\n",
       "    <path class=\"displacy-arrowhead\" d=\"M565.0,266.5 L573.0,254.5 557.0,254.5\" fill=\"currentColor\"/>\n",
       "</g>\n",
       "\n",
       "<g class=\"displacy-arrow\">\n",
       "    <path class=\"displacy-arc\" id=\"arrow-8f2422b2cd6046db9618abd54e3270bd-0-3\" stroke-width=\"2px\" d=\"M595,264.5 C595,177.0 740.0,177.0 740.0,264.5\" fill=\"none\" stroke=\"currentColor\"/>\n",
       "    <text dy=\"1.25em\" style=\"font-size: 0.8em; letter-spacing: 1px\">\n",
       "        <textPath xlink:href=\"#arrow-8f2422b2cd6046db9618abd54e3270bd-0-3\" class=\"displacy-label\" startOffset=\"50%\" side=\"left\" fill=\"currentColor\" text-anchor=\"middle\">pobj</textPath>\n",
       "    </text>\n",
       "    <path class=\"displacy-arrowhead\" d=\"M740.0,266.5 L748.0,254.5 732.0,254.5\" fill=\"currentColor\"/>\n",
       "</g>\n",
       "\n",
       "<g class=\"displacy-arrow\">\n",
       "    <path class=\"displacy-arc\" id=\"arrow-8f2422b2cd6046db9618abd54e3270bd-0-4\" stroke-width=\"2px\" d=\"M420,264.5 C420,89.5 920.0,89.5 920.0,264.5\" fill=\"none\" stroke=\"currentColor\"/>\n",
       "    <text dy=\"1.25em\" style=\"font-size: 0.8em; letter-spacing: 1px\">\n",
       "        <textPath xlink:href=\"#arrow-8f2422b2cd6046db9618abd54e3270bd-0-4\" class=\"displacy-label\" startOffset=\"50%\" side=\"left\" fill=\"currentColor\" text-anchor=\"middle\">cc</textPath>\n",
       "    </text>\n",
       "    <path class=\"displacy-arrowhead\" d=\"M920.0,266.5 L928.0,254.5 912.0,254.5\" fill=\"currentColor\"/>\n",
       "</g>\n",
       "\n",
       "<g class=\"displacy-arrow\">\n",
       "    <path class=\"displacy-arc\" id=\"arrow-8f2422b2cd6046db9618abd54e3270bd-0-5\" stroke-width=\"2px\" d=\"M420,264.5 C420,2.0 1100.0,2.0 1100.0,264.5\" fill=\"none\" stroke=\"currentColor\"/>\n",
       "    <text dy=\"1.25em\" style=\"font-size: 0.8em; letter-spacing: 1px\">\n",
       "        <textPath xlink:href=\"#arrow-8f2422b2cd6046db9618abd54e3270bd-0-5\" class=\"displacy-label\" startOffset=\"50%\" side=\"left\" fill=\"currentColor\" text-anchor=\"middle\">conj</textPath>\n",
       "    </text>\n",
       "    <path class=\"displacy-arrowhead\" d=\"M1100.0,266.5 L1108.0,254.5 1092.0,254.5\" fill=\"currentColor\"/>\n",
       "</g>\n",
       "\n",
       "<g class=\"displacy-arrow\">\n",
       "    <path class=\"displacy-arc\" id=\"arrow-8f2422b2cd6046db9618abd54e3270bd-0-6\" stroke-width=\"2px\" d=\"M1295,264.5 C1295,177.0 1440.0,177.0 1440.0,264.5\" fill=\"none\" stroke=\"currentColor\"/>\n",
       "    <text dy=\"1.25em\" style=\"font-size: 0.8em; letter-spacing: 1px\">\n",
       "        <textPath xlink:href=\"#arrow-8f2422b2cd6046db9618abd54e3270bd-0-6\" class=\"displacy-label\" startOffset=\"50%\" side=\"left\" fill=\"currentColor\" text-anchor=\"middle\">aux</textPath>\n",
       "    </text>\n",
       "    <path class=\"displacy-arrowhead\" d=\"M1295,266.5 L1287,254.5 1303,254.5\" fill=\"currentColor\"/>\n",
       "</g>\n",
       "\n",
       "<g class=\"displacy-arrow\">\n",
       "    <path class=\"displacy-arc\" id=\"arrow-8f2422b2cd6046db9618abd54e3270bd-0-7\" stroke-width=\"2px\" d=\"M1120,264.5 C1120,89.5 1445.0,89.5 1445.0,264.5\" fill=\"none\" stroke=\"currentColor\"/>\n",
       "    <text dy=\"1.25em\" style=\"font-size: 0.8em; letter-spacing: 1px\">\n",
       "        <textPath xlink:href=\"#arrow-8f2422b2cd6046db9618abd54e3270bd-0-7\" class=\"displacy-label\" startOffset=\"50%\" side=\"left\" fill=\"currentColor\" text-anchor=\"middle\">xcomp</textPath>\n",
       "    </text>\n",
       "    <path class=\"displacy-arrowhead\" d=\"M1445.0,266.5 L1453.0,254.5 1437.0,254.5\" fill=\"currentColor\"/>\n",
       "</g>\n",
       "\n",
       "<g class=\"displacy-arrow\">\n",
       "    <path class=\"displacy-arc\" id=\"arrow-8f2422b2cd6046db9618abd54e3270bd-0-8\" stroke-width=\"2px\" d=\"M1470,264.5 C1470,177.0 1615.0,177.0 1615.0,264.5\" fill=\"none\" stroke=\"currentColor\"/>\n",
       "    <text dy=\"1.25em\" style=\"font-size: 0.8em; letter-spacing: 1px\">\n",
       "        <textPath xlink:href=\"#arrow-8f2422b2cd6046db9618abd54e3270bd-0-8\" class=\"displacy-label\" startOffset=\"50%\" side=\"left\" fill=\"currentColor\" text-anchor=\"middle\">dobj</textPath>\n",
       "    </text>\n",
       "    <path class=\"displacy-arrowhead\" d=\"M1615.0,266.5 L1623.0,254.5 1607.0,254.5\" fill=\"currentColor\"/>\n",
       "</g>\n",
       "</svg></span>"
      ],
      "text/plain": [
       "<IPython.core.display.HTML object>"
      ]
     },
     "metadata": {},
     "output_type": "display_data"
    }
   ],
   "source": [
    "nlp_sm = spacy.load(\"en_core_web_sm\")\n",
    "\n",
    "# Sample text for POS tagging\n",
    "pos_text = \"Alikhan were running on marathon and tried to complete it\"\n",
    "\n",
    "# Process the text\n",
    "doc =  nlp_sm(pos_text)\n",
    "\n",
    "# Display POS tags and dependencies\n",
    "print(\"spaCy POS Tagging Results (en_core_web_trf):\")\n",
    "print(f\"{'Token':<15} {'POS':<10} {'Tag':<10} {'Dependency':<15}\")\n",
    "for token in doc:\n",
    "    print(f\"{token.text:<15} {token.pos_:<10} {token.tag_:<10} {token.dep_:<15}\")\n",
    "\n",
    "# Visualize the parse tree\n",
    "displacy.render(doc, style=\"dep\", jupyter=True)"
   ]
  },
  {
   "cell_type": "markdown",
   "id": "1de2eb4d-16fd-4eb2-8969-d15de56d3e59",
   "metadata": {},
   "source": [
    "# pos tagging with transformers"
   ]
  },
  {
   "cell_type": "code",
   "execution_count": 8,
   "id": "25242dd6-664b-41f5-9d7a-4cc605a46092",
   "metadata": {},
   "outputs": [
    {
     "name": "stderr",
     "output_type": "stream",
     "text": [
      "Some weights of the model checkpoint at vblagoje/bert-english-uncased-finetuned-pos were not used when initializing BertForTokenClassification: ['bert.pooler.dense.bias', 'bert.pooler.dense.weight']\n",
      "- This IS expected if you are initializing BertForTokenClassification from the checkpoint of a model trained on another task or with another architecture (e.g. initializing a BertForSequenceClassification model from a BertForPreTraining model).\n",
      "- This IS NOT expected if you are initializing BertForTokenClassification from the checkpoint of a model that you expect to be exactly identical (initializing a BertForSequenceClassification model from a BertForSequenceClassification model).\n",
      "Hardware accelerator e.g. GPU is available in the environment, but no `device` argument is passed to the `Pipeline` object. Model will be on CPU.\n"
     ]
    },
    {
     "name": "stdout",
     "output_type": "stream",
     "text": [
      "\n",
      "BERT POS Tagging Results:\n",
      "Token           POS Tag    Score     \n",
      "alikhan         PROPN      1.00\n",
      "and             CCONJ      1.00\n",
      "nur             PROPN      1.00\n",
      "are             AUX        1.00\n",
      "master          NOUN       0.99\n",
      "' s             PART       1.00\n",
      "students        NOUN       1.00\n",
      "at              ADP        1.00\n",
      "kbtu            PROPN      0.97\n"
     ]
    }
   ],
   "source": [
    "from transformers import pipeline\n",
    "\n",
    "# Load a pre-trained POS tagging model\n",
    "pos_pipeline = pipeline(\n",
    "    \"token-classification\", \n",
    "    model=\"vblagoje/bert-english-uncased-finetuned-pos\",\n",
    "    aggregation_strategy=\"simple\"\n",
    ")\n",
    "\n",
    "# Sample text\n",
    "pos_text = \"Alikhan and Nur are master's students at KBTU\"\n",
    "\n",
    "# Get POS tags\n",
    "pos_results = pos_pipeline(pos_text)\n",
    "\n",
    "print(\"\\nBERT POS Tagging Results:\")\n",
    "print(f\"{'Token':<15} {'POS Tag':<10} {'Score':<10}\")\n",
    "for tag in pos_results:\n",
    "    print(f\"{tag['word']:<15} {tag['entity_group']:<10} {tag['score']:.2f}\")"
   ]
  },
  {
   "cell_type": "markdown",
   "id": "39db8672-4969-4daa-83bd-e0adb7e86c07",
   "metadata": {},
   "source": [
    "# Comparison"
   ]
  },
  {
   "cell_type": "code",
   "execution_count": 9,
   "id": "2b6fd811-fbfd-4054-96c7-c5ab1f65ad58",
   "metadata": {},
   "outputs": [
    {
     "name": "stdout",
     "output_type": "stream",
     "text": [
      "\n",
      "POS Tagging Comparison:\n",
      "      Text spaCy POS BERT POS\n",
      "0      Nur     PROPN    PROPN\n",
      "1      won      VERB     VERB\n",
      "2    Halyk     PROPN        O\n",
      "3     onai       ADJ        O\n",
      "4       in       ADP      ADP\n",
      "5     2024       NUM      NUM\n",
      "6      and     CCONJ    CCONJ\n",
      "7  Alikhan     PROPN    PROPN\n",
      "8      won      VERB     VERB\n",
      "9     ICPC     PROPN    PROPN\n"
     ]
    }
   ],
   "source": [
    "# POS Tagging Comparison with proper token alignment\n",
    "import pandas as pd\n",
    "# Sample text for comparison\n",
    "compare_text = \"Nur won Halyk onai in 2024 and Alikhan won ICPC\"\n",
    "\n",
    "# spaCy POS tagging\n",
    "doc_spacy_pos = nlp_sm(compare_text)\n",
    "spacy_tokens = [token.text for token in doc_spacy_pos]\n",
    "spacy_pos_tags = [token.pos_ for token in doc_spacy_pos]\n",
    "\n",
    "# BERT POS tagging\n",
    "bert_results = pos_pipeline(compare_text)\n",
    "bert_tokens = [result['word'] for result in bert_results]\n",
    "bert_pos_tags = [result['entity_group'] for result in bert_results]\n",
    "\n",
    "# Create aligned DataFrame\n",
    "pos_comparison = pd.DataFrame({\n",
    "    \"Text\": spacy_tokens,\n",
    "    \"spaCy POS\": spacy_pos_tags,\n",
    "    \"BERT POS\": [\"O\"] * len(spacy_tokens),  # Initialize with placeholder\n",
    "})\n",
    "\n",
    "# Align BERT tags with spaCy tokens\n",
    "bert_pos_dict = dict(zip(bert_tokens, bert_pos_tags))\n",
    "for i, token in enumerate(pos_comparison[\"Text\"]):\n",
    "    if token in bert_pos_dict:\n",
    "        pos_comparison.at[i, \"BERT POS\"] = bert_pos_dict[token]\n",
    "    # Handle cases where token appears multiple times\n",
    "    elif token.lower() in [t.lower() for t in bert_pos_dict.keys()]:\n",
    "        matching_tokens = [t for t in bert_pos_dict.keys() if t.lower() == token.lower()]\n",
    "        pos_comparison.at[i, \"BERT POS\"] = bert_pos_dict[matching_tokens[0]]\n",
    "\n",
    "print(\"\\nPOS Tagging Comparison:\")\n",
    "print(pos_comparison)"
   ]
  },
  {
   "cell_type": "markdown",
   "id": "613abb80-de1e-4b75-83f4-523cf3c44943",
   "metadata": {},
   "source": [
    "# Task 6"
   ]
  },
  {
   "cell_type": "code",
   "execution_count": 50,
   "id": "5a697075-e7ef-411b-bab9-057a4e634783",
   "metadata": {},
   "outputs": [
    {
     "name": "stderr",
     "output_type": "stream",
     "text": [
      "/opt/conda/envs/classifier/lib/python3.10/site-packages/transformers/tokenization_utils_base.py:1617: FutureWarning: `clean_up_tokenization_spaces` was not set. It will be set to `True` by default. This behavior will be deprecated in transformers v4.45, and will be then set to `False` by default. For more details check this issue: https://github.com/huggingface/transformers/issues/31884\n",
      "  warnings.warn(\n"
     ]
    }
   ],
   "source": [
    "import torch\n",
    "from torch.utils.data import Dataset, DataLoader\n",
    "from transformers import BertTokenizerFast, BertForTokenClassification, Trainer, TrainingArguments\n",
    "from datasets import load_dataset\n",
    "import numpy as np\n",
    "from seqeval.metrics import precision_score, recall_score, f1_score\n",
    "import evaluate\n",
    "\n",
    "# Load CoNLL-2003 dataset\n",
    "dataset = load_dataset(\"conll2003\")\n",
    "\n",
    "# Initialize tokenizer\n",
    "tokenizer = BertTokenizerFast.from_pretrained(\"bert-base-cased\")\n",
    "\n",
    "# Get label list\n",
    "label_list = dataset[\"train\"].features[\"ner_tags\"].feature.names\n",
    "num_labels = len(label_list)"
   ]
  },
  {
   "cell_type": "code",
   "execution_count": 51,
   "id": "5a655d05-e84d-471c-8a86-e9fa51c02c24",
   "metadata": {},
   "outputs": [],
   "source": [
    "# Function to tokenize and align labels\n",
    "def tokenize_and_align_labels(examples):\n",
    "    tokenized_inputs = tokenizer(\n",
    "        examples[\"tokens\"],\n",
    "        truncation=True,\n",
    "        is_split_into_words=True,\n",
    "        padding=\"max_length\",\n",
    "        max_length=128\n",
    "    )\n",
    "    \n",
    "    labels = []\n",
    "    for i, label in enumerate(examples[\"ner_tags\"]):\n",
    "        word_ids = tokenized_inputs.word_ids(batch_index=i)\n",
    "        previous_word_idx = None\n",
    "        label_ids = []\n",
    "        \n",
    "        for word_idx in word_ids:\n",
    "            if word_idx is None:\n",
    "                label_ids.append(-100)\n",
    "            elif word_idx != previous_word_idx:\n",
    "                label_ids.append(label[word_idx])\n",
    "            else:\n",
    "                label_ids.append(-100)\n",
    "            previous_word_idx = word_idx\n",
    "            \n",
    "        labels.append(label_ids)\n",
    "    \n",
    "    tokenized_inputs[\"labels\"] = labels\n",
    "    return tokenized_inputs"
   ]
  },
  {
   "cell_type": "code",
   "execution_count": 52,
   "id": "96d394a0-d4dc-4783-b839-5e990a28f26e",
   "metadata": {},
   "outputs": [
    {
     "name": "stderr",
     "output_type": "stream",
     "text": [
      "Some weights of BertForTokenClassification were not initialized from the model checkpoint at bert-base-cased and are newly initialized: ['classifier.bias', 'classifier.weight']\n",
      "You should probably TRAIN this model on a down-stream task to be able to use it for predictions and inference.\n"
     ]
    }
   ],
   "source": [
    "# Prepare dataset\n",
    "tokenized_datasets = dataset.map(tokenize_and_align_labels, batched=True)\n",
    "tokenized_datasets = tokenized_datasets.remove_columns([\"id\", \"tokens\", \"pos_tags\", \"chunk_tags\", \"ner_tags\"])\n",
    "tokenized_datasets.set_format(\"torch\")\n",
    "\n",
    "# Create data loaders\n",
    "train_dataloader = DataLoader(tokenized_datasets[\"train\"], batch_size=16, shuffle=True)\n",
    "eval_dataloader = DataLoader(tokenized_datasets[\"validation\"], batch_size=16)\n",
    "\n",
    "# Initialize model\n",
    "model = BertForTokenClassification.from_pretrained(\n",
    "    \"bert-base-cased\",\n",
    "    num_labels=num_labels\n",
    ")"
   ]
  },
  {
   "cell_type": "code",
   "execution_count": 53,
   "id": "6a0776d9-4d82-4605-990d-8e65bf07c66c",
   "metadata": {},
   "outputs": [
    {
     "name": "stderr",
     "output_type": "stream",
     "text": [
      "/opt/conda/envs/classifier/lib/python3.10/site-packages/transformers/training_args.py:1545: FutureWarning: `evaluation_strategy` is deprecated and will be removed in version 4.46 of 🤗 Transformers. Use `eval_strategy` instead\n",
      "  warnings.warn(\n"
     ]
    }
   ],
   "source": [
    "# Set training arguments\n",
    "training_args = TrainingArguments(\n",
    "    output_dir=\"./results\",\n",
    "    evaluation_strategy=\"epoch\",\n",
    "    learning_rate=2e-5,\n",
    "    per_device_train_batch_size=16,\n",
    "    per_device_eval_batch_size=16,\n",
    "    num_train_epochs=3,\n",
    "    weight_decay=0.01,\n",
    "    logging_dir=\"./logs\",\n",
    "    logging_steps=10,\n",
    ")\n",
    "\n",
    "# Initialize metrics\n",
    "seqeval = evaluate.load(\"seqeval\")"
   ]
  },
  {
   "cell_type": "code",
   "execution_count": 54,
   "id": "d659ec10-6039-419c-98b3-ca1418262d93",
   "metadata": {
    "scrolled": true
   },
   "outputs": [
    {
     "data": {
      "text/html": [
       "\n",
       "    <div>\n",
       "      \n",
       "      <progress value='2634' max='2634' style='width:300px; height:20px; vertical-align: middle;'></progress>\n",
       "      [2634/2634 01:32, Epoch 3/3]\n",
       "    </div>\n",
       "    <table border=\"1\" class=\"dataframe\">\n",
       "  <thead>\n",
       " <tr style=\"text-align: left;\">\n",
       "      <th>Epoch</th>\n",
       "      <th>Training Loss</th>\n",
       "      <th>Validation Loss</th>\n",
       "      <th>Precision</th>\n",
       "      <th>Recall</th>\n",
       "      <th>F1</th>\n",
       "    </tr>\n",
       "  </thead>\n",
       "  <tbody>\n",
       "    <tr>\n",
       "      <td>1</td>\n",
       "      <td>0.044100</td>\n",
       "      <td>0.038830</td>\n",
       "      <td>0.924962</td>\n",
       "      <td>0.934468</td>\n",
       "      <td>0.929691</td>\n",
       "    </tr>\n",
       "    <tr>\n",
       "      <td>2</td>\n",
       "      <td>0.006100</td>\n",
       "      <td>0.036976</td>\n",
       "      <td>0.945506</td>\n",
       "      <td>0.949966</td>\n",
       "      <td>0.947731</td>\n",
       "    </tr>\n",
       "    <tr>\n",
       "      <td>3</td>\n",
       "      <td>0.010600</td>\n",
       "      <td>0.035835</td>\n",
       "      <td>0.942943</td>\n",
       "      <td>0.952156</td>\n",
       "      <td>0.947527</td>\n",
       "    </tr>\n",
       "  </tbody>\n",
       "</table><p>"
      ],
      "text/plain": [
       "<IPython.core.display.HTML object>"
      ]
     },
     "metadata": {},
     "output_type": "display_data"
    },
    {
     "data": {
      "text/plain": [
       "TrainOutput(global_step=2634, training_loss=0.05502877172843561, metrics={'train_runtime': 92.7229, 'train_samples_per_second': 454.289, 'train_steps_per_second': 28.407, 'total_flos': 2751824963545344.0, 'train_loss': 0.05502877172843561, 'epoch': 3.0})"
      ]
     },
     "execution_count": 54,
     "metadata": {},
     "output_type": "execute_result"
    }
   ],
   "source": [
    "def compute_metrics(p):\n",
    "    predictions, labels = p\n",
    "    predictions = np.argmax(predictions, axis=2)\n",
    "    \n",
    "    true_predictions = [\n",
    "        [label_list[p] for (p, l) in zip(prediction, label) if l != -100]\n",
    "        for prediction, label in zip(predictions, labels)\n",
    "    ]\n",
    "    true_labels = [\n",
    "        [label_list[l] for (p, l) in zip(prediction, label) if l != -100]\n",
    "        for prediction, label in zip(predictions, labels)\n",
    "    ]\n",
    "    \n",
    "    results = seqeval.compute(predictions=true_predictions, references=true_labels)\n",
    "    return {\n",
    "        \"precision\": results[\"overall_precision\"],\n",
    "        \"recall\": results[\"overall_recall\"],\n",
    "        \"f1\": results[\"overall_f1\"],\n",
    "    }\n",
    "\n",
    "# Initialize trainer\n",
    "trainer = Trainer(\n",
    "    model=model,\n",
    "    args=training_args,\n",
    "    train_dataset=tokenized_datasets[\"train\"],\n",
    "    eval_dataset=tokenized_datasets[\"validation\"],\n",
    "    compute_metrics=compute_metrics,\n",
    ")\n",
    "\n",
    "# Train model\n",
    "trainer.train()\n",
    "\n"
   ]
  },
  {
   "cell_type": "code",
   "execution_count": 55,
   "id": "80db064c-1204-4585-9ce9-b0280007662d",
   "metadata": {},
   "outputs": [
    {
     "data": {
      "text/html": [
       "\n",
       "    <div>\n",
       "      \n",
       "      <progress value='216' max='216' style='width:300px; height:20px; vertical-align: middle;'></progress>\n",
       "      [216/216 00:01]\n",
       "    </div>\n",
       "    "
      ],
      "text/plain": [
       "<IPython.core.display.HTML object>"
      ]
     },
     "metadata": {},
     "output_type": "display_data"
    },
    {
     "name": "stdout",
     "output_type": "stream",
     "text": [
      "Test Results:\n",
      "Precision: 0.9016\n",
      "Recall: 0.9167\n",
      "F1-Score: 0.9091\n"
     ]
    },
    {
     "data": {
      "text/plain": [
       "('./ner_model/tokenizer_config.json',\n",
       " './ner_model/special_tokens_map.json',\n",
       " './ner_model/vocab.txt',\n",
       " './ner_model/added_tokens.json',\n",
       " './ner_model/tokenizer.json')"
      ]
     },
     "execution_count": 55,
     "metadata": {},
     "output_type": "execute_result"
    }
   ],
   "source": [
    "# Evaluate on test set\n",
    "test_results = trainer.evaluate(tokenized_datasets[\"test\"])\n",
    "print(\"Test Results:\")\n",
    "print(f\"Precision: {test_results['eval_precision']:.4f}\")\n",
    "print(f\"Recall: {test_results['eval_recall']:.4f}\")\n",
    "print(f\"F1-Score: {test_results['eval_f1']:.4f}\")\n",
    "\n",
    "# Save model\n",
    "model.save_pretrained(\"./ner_model\")\n",
    "tokenizer.save_pretrained(\"./ner_model\")"
   ]
  },
  {
   "cell_type": "code",
   "execution_count": 56,
   "id": "e850ad68-b741-4e8c-a889-f666ecedd2ae",
   "metadata": {},
   "outputs": [
    {
     "name": "stderr",
     "output_type": "stream",
     "text": [
      "Hardware accelerator e.g. GPU is available in the environment, but no `device` argument is passed to the `Pipeline` object. Model will be on CPU.\n"
     ]
    },
    {
     "name": "stdout",
     "output_type": "stream",
     "text": [
      "[{'entity_group': 'LABEL_1', 'score': np.float32(0.9988348), 'word': 'Alikhan', 'start': 0, 'end': 7}, {'entity_group': 'LABEL_0', 'score': np.float32(0.9994012), 'word': 'and', 'start': 8, 'end': 11}, {'entity_group': 'LABEL_1', 'score': np.float32(0.9986004), 'word': 'Nur', 'start': 12, 'end': 15}, {'entity_group': 'LABEL_0', 'score': np.float32(0.999862), 'word': 'are going to work on', 'start': 16, 'end': 36}, {'entity_group': 'LABEL_3', 'score': np.float32(0.9940399), 'word': 'Google', 'start': 37, 'end': 43}]\n"
     ]
    }
   ],
   "source": [
    "from transformers import pipeline\n",
    "\n",
    "trainer.save_model(\"custom_ner_model\")\n",
    "\n",
    "ner_pipeline = pipeline(\n",
    "    \"token-classification\",\n",
    "    model=\"custom_ner_model\",\n",
    "    tokenizer=tokenizer,  \n",
    "    aggregation_strategy=\"first\"  \n",
    ")\n",
    "\n",
    "text = \"Alikhan and Nur are going to work on Google\"\n",
    "\n",
    "entities = ner_pipeline(text)\n",
    "\n",
    "print(entities)"
   ]
  },
  {
   "cell_type": "markdown",
   "id": "3f8604eb-e2f1-4f9c-88c5-06587b446b7c",
   "metadata": {},
   "source": [
    "# Task 7"
   ]
  },
  {
   "cell_type": "code",
   "execution_count": 16,
   "id": "59e7df03-60e0-436e-ae5a-cedfb27ff31f",
   "metadata": {},
   "outputs": [],
   "source": [
    "import torch\n",
    "from transformers import BertTokenizer, BertForSequenceClassification, Trainer, TrainingArguments\n",
    "from datasets import load_dataset\n",
    "from sklearn.metrics import accuracy_score, f1_score, confusion_matrix\n",
    "\n",
    "# Load dataset\n",
    "dataset = load_dataset(\"imdb\")\n",
    "\n",
    "tokenizer = BertTokenizer.from_pretrained('bert-base-uncased')"
   ]
  },
  {
   "cell_type": "code",
   "execution_count": 17,
   "id": "df66d010-cca7-42db-b90c-d04ebe398544",
   "metadata": {},
   "outputs": [],
   "source": [
    "# Preprocessing\n",
    "def tokenize_function(examples):\n",
    "    return tokenizer(examples['text'], padding=\"max_length\", truncation=True)\n",
    "\n",
    "tokenized_datasets = dataset.map(tokenize_function, batched=True)\n",
    "tokenized_datasets = tokenized_datasets.remove_columns([\"text\"])\n",
    "tokenized_datasets.set_format(\"torch\")\n"
   ]
  },
  {
   "cell_type": "code",
   "execution_count": 18,
   "id": "c8055167-3a98-4cd2-b9d0-8464237b1c6c",
   "metadata": {},
   "outputs": [
    {
     "name": "stderr",
     "output_type": "stream",
     "text": [
      "Some weights of BertForSequenceClassification were not initialized from the model checkpoint at bert-base-uncased and are newly initialized: ['classifier.bias', 'classifier.weight']\n",
      "You should probably TRAIN this model on a down-stream task to be able to use it for predictions and inference.\n"
     ]
    }
   ],
   "source": [
    "train_dataset = tokenized_datasets[\"train\"].shuffle(seed=42).select(range(5000))  # smaller subset\n",
    "test_dataset = tokenized_datasets[\"test\"].shuffle(seed=42).select(range(1000))\n",
    "\n",
    "# train_dataset = tokenized_datasets[\"train\"]\n",
    "# test_dataset = tokenized_datasets[\"test\"]\n",
    "# Load model\n",
    "model = BertForSequenceClassification.from_pretrained('bert-base-uncased', num_labels=2)\n"
   ]
  },
  {
   "cell_type": "code",
   "execution_count": 19,
   "id": "215f362e-a041-433c-baab-248da505bf7e",
   "metadata": {},
   "outputs": [
    {
     "name": "stderr",
     "output_type": "stream",
     "text": [
      "/opt/conda/envs/classifier/lib/python3.10/site-packages/transformers/training_args.py:1545: FutureWarning: `evaluation_strategy` is deprecated and will be removed in version 4.46 of 🤗 Transformers. Use `eval_strategy` instead\n",
      "  warnings.warn(\n"
     ]
    }
   ],
   "source": [
    "# Define metrics\n",
    "def compute_metrics(eval_pred):\n",
    "    logits, labels = eval_pred\n",
    "    preds = logits.argmax(axis=1)\n",
    "    return {\n",
    "        'accuracy': accuracy_score(labels, preds),\n",
    "        'f1': f1_score(labels, preds),\n",
    "    }\n",
    "\n",
    "# Training\n",
    "training_args = TrainingArguments(\n",
    "    output_dir=\"./results\",\n",
    "    evaluation_strategy=\"epoch\",\n",
    "    num_train_epochs=3,\n",
    "    per_device_train_batch_size=32,\n",
    "    per_device_eval_batch_size=32,\n",
    "    logging_dir=\"./logs\",\n",
    "    logging_steps=100,\n",
    ")\n",
    "\n",
    "trainer = Trainer(\n",
    "    model=model,\n",
    "    args=training_args,\n",
    "    train_dataset=train_dataset,\n",
    "    eval_dataset=test_dataset,\n",
    "    compute_metrics=compute_metrics,\n",
    ")\n"
   ]
  },
  {
   "cell_type": "code",
   "execution_count": 20,
   "id": "bcedbd75-47c6-4490-aae0-25eab5c04804",
   "metadata": {
    "scrolled": true
   },
   "outputs": [
    {
     "data": {
      "text/html": [
       "\n",
       "    <div>\n",
       "      \n",
       "      <progress value='471' max='471' style='width:300px; height:20px; vertical-align: middle;'></progress>\n",
       "      [471/471 02:27, Epoch 3/3]\n",
       "    </div>\n",
       "    <table border=\"1\" class=\"dataframe\">\n",
       "  <thead>\n",
       " <tr style=\"text-align: left;\">\n",
       "      <th>Epoch</th>\n",
       "      <th>Training Loss</th>\n",
       "      <th>Validation Loss</th>\n",
       "      <th>Accuracy</th>\n",
       "      <th>F1</th>\n",
       "    </tr>\n",
       "  </thead>\n",
       "  <tbody>\n",
       "    <tr>\n",
       "      <td>1</td>\n",
       "      <td>0.374300</td>\n",
       "      <td>0.286201</td>\n",
       "      <td>0.877000</td>\n",
       "      <td>0.883853</td>\n",
       "    </tr>\n",
       "    <tr>\n",
       "      <td>2</td>\n",
       "      <td>0.134500</td>\n",
       "      <td>0.339096</td>\n",
       "      <td>0.890000</td>\n",
       "      <td>0.893822</td>\n",
       "    </tr>\n",
       "    <tr>\n",
       "      <td>3</td>\n",
       "      <td>0.059000</td>\n",
       "      <td>0.400919</td>\n",
       "      <td>0.909000</td>\n",
       "      <td>0.907048</td>\n",
       "    </tr>\n",
       "  </tbody>\n",
       "</table><p>"
      ],
      "text/plain": [
       "<IPython.core.display.HTML object>"
      ]
     },
     "metadata": {},
     "output_type": "display_data"
    },
    {
     "data": {
      "text/html": [],
      "text/plain": [
       "<IPython.core.display.HTML object>"
      ]
     },
     "metadata": {},
     "output_type": "display_data"
    }
   ],
   "source": [
    "trainer.train()\n",
    "bert_metrics = trainer.evaluate()\n"
   ]
  },
  {
   "cell_type": "code",
   "execution_count": null,
   "id": "01ab9969-f23e-45a8-aa3a-969517a4dfd7",
   "metadata": {},
   "outputs": [],
   "source": []
  },
  {
   "cell_type": "code",
   "execution_count": 25,
   "id": "6e63acfd-c72c-4755-b2e8-880ed8d4ea64",
   "metadata": {},
   "outputs": [
    {
     "data": {
      "text/html": [],
      "text/plain": [
       "<IPython.core.display.HTML object>"
      ]
     },
     "metadata": {},
     "output_type": "display_data"
    },
    {
     "name": "stdout",
     "output_type": "stream",
     "text": [
      "=== Model Evaluation ===\n",
      "Accuracy: 0.9090\n",
      "F1-score: 0.9070\n",
      "\n",
      "Detailed classification report:\n",
      "              precision    recall  f1-score   support\n",
      "\n",
      "    Negative       0.91      0.91      0.91       512\n",
      "    Positive       0.90      0.91      0.91       488\n",
      "\n",
      "    accuracy                           0.91      1000\n",
      "   macro avg       0.91      0.91      0.91      1000\n",
      "weighted avg       0.91      0.91      0.91      1000\n",
      "\n"
     ]
    },
    {
     "data": {
      "image/png": "[encoded data removed]",
      "text/plain": [
       "<Figure size 800x600 with 2 Axes>"
      ]
     },
     "metadata": {},
     "output_type": "display_data"
    }
   ],
   "source": [
    "import matplotlib.pyplot as plt\n",
    "import seaborn as sns\n",
    "def plot_confusion_matrix(labels, preds, class_names=None):\n",
    "    cm = confusion_matrix(labels, preds)\n",
    "    \n",
    "    if class_names is None:\n",
    "        class_names = [str(i) for i in range(len(np.unique(labels)))]\n",
    "    \n",
    "    plt.figure(figsize=(8, 6))\n",
    "    sns.heatmap(cm, annot=True, fmt='d', cmap='Blues',\n",
    "                xticklabels=class_names, \n",
    "                yticklabels=class_names)\n",
    "    plt.title('Confusion Matrix')\n",
    "    plt.ylabel('True Label')\n",
    "    plt.xlabel('Predicted Label')\n",
    "    plt.show()\n",
    "\n",
    "# Get predictions\n",
    "predictions = trainer.predict(test_dataset)\n",
    "preds = predictions.predictions.argmax(axis=1)\n",
    "labels = predictions.label_ids\n",
    "\n",
    "# Metrics\n",
    "accuracy = accuracy_score(labels, preds)\n",
    "f1 = f1_score(labels, preds, average='binary')  # Use 'macro' for multi-class\n",
    "cm = confusion_matrix(labels, preds)\n",
    "\n",
    "print(\"=== Model Evaluation ===\")\n",
    "print(f\"Accuracy: {accuracy:.4f}\")\n",
    "print(f\"F1-score: {f1:.4f}\")\n",
    "print(\"\\nDetailed classification report:\")\n",
    "print(classification_report(labels, preds, target_names=['Negative', 'Positive']))\n",
    "\n",
    "# Plot confusion matrix\n",
    "plot_confusion_matrix(labels, preds, class_names=['Negative', 'Positive'])"
   ]
  },
  {
   "cell_type": "code",
   "execution_count": 26,
   "id": "1e44f65e-97ec-4656-8f99-a19adb2af6ff",
   "metadata": {},
   "outputs": [],
   "source": [
    "import torch\n",
    "import torch.nn as nn\n",
    "import torch.optim as optim\n",
    "from torch.utils.data import DataLoader, Dataset\n",
    "from sklearn.metrics import accuracy_score, f1_score, confusion_matrix\n",
    "from datasets import load_dataset\n",
    "import numpy as np\n",
    "from collections import Counter\n",
    "import re\n",
    "\n",
    "# Load IMDB dataset and sample\n",
    "dataset = load_dataset(\"imdb\")\n",
    "train_data = dataset['train'].shuffle(seed=42).select(range(5000))\n",
    "test_data = dataset['test'].shuffle(seed=42).select(range(1000))\n",
    "\n",
    "# Simple tokenizer\n",
    "def tokenize(text):\n",
    "    text = re.sub(r'[^\\w\\s]', '', text.lower())\n",
    "    return text.split()\n",
    "\n",
    "# Build vocabulary\n",
    "def build_vocab(texts, max_words):\n",
    "    word_counts = Counter()\n",
    "    for text in texts:\n",
    "        word_counts.update(tokenize(text))\n",
    "    \n",
    "    vocab = {'<pad>': 0, '<unk>': 1}\n",
    "    for word, _ in word_counts.most_common(max_words - 2):\n",
    "        vocab[word] = len(vocab)\n",
    "    return vocab\n",
    "\n",
    "max_words = 10000\n",
    "max_len = 200\n",
    "vocab = build_vocab(train_data['text'], max_words)\n"
   ]
  },
  {
   "cell_type": "code",
   "execution_count": 27,
   "id": "05bb772c-a40c-4350-892d-f8a295a2810a",
   "metadata": {},
   "outputs": [],
   "source": [
    "# Custom Dataset class\n",
    "class IMDBDataset(Dataset):\n",
    "    def __init__(self, texts, labels, vocab, max_len):\n",
    "        self.texts = texts\n",
    "        self.labels = labels\n",
    "        self.vocab = vocab\n",
    "        self.max_len = max_len\n",
    "\n",
    "    def __len__(self):\n",
    "        return len(self.texts)\n",
    "\n",
    "    def __getitem__(self, idx):\n",
    "        text = self.texts[idx]\n",
    "        label = self.labels[idx]\n",
    "        tokens = tokenize(text)[:self.max_len]\n",
    "        indices = [self.vocab.get(token, self.vocab['<unk>']) for token in tokens]\n",
    "        if len(indices) < self.max_len:\n",
    "            indices += [self.vocab['<pad>']] * (self.max_len - len(indices))\n",
    "        return torch.tensor(indices, dtype=torch.long), torch.tensor(label, dtype=torch.float)\n",
    "\n",
    "# Prepare datasets\n",
    "train_dataset = IMDBDataset(train_data['text'], train_data['label'], vocab, max_len)\n",
    "test_dataset = IMDBDataset(test_data['text'], test_data['label'], vocab, max_len)\n",
    "\n",
    "train_loader = DataLoader(train_dataset, batch_size=64, shuffle=True)\n",
    "test_loader = DataLoader(test_dataset, batch_size=64)"
   ]
  },
  {
   "cell_type": "code",
   "execution_count": 28,
   "id": "1b549820-d353-4ad8-8007-a7d03e917392",
   "metadata": {},
   "outputs": [],
   "source": [
    "# Define LSTM model\n",
    "class LSTMSentiment(nn.Module):\n",
    "    def __init__(self, vocab_size, embedding_dim, hidden_dim, dropout):\n",
    "        super(LSTMSentiment, self).__init__()\n",
    "        self.embedding = nn.Embedding(vocab_size, embedding_dim, padding_idx=0)\n",
    "        self.lstm1 = nn.LSTM(embedding_dim, hidden_dim, batch_first=True, bidirectional=True)\n",
    "        self.dropout1 = nn.Dropout(dropout)\n",
    "        self.lstm2 = nn.LSTM(hidden_dim * 2, hidden_dim // 2, batch_first=True, bidirectional=True)\n",
    "        self.dropout2 = nn.Dropout(dropout)\n",
    "        self.fc1 = nn.Linear(hidden_dim, 32)\n",
    "        self.relu = nn.ReLU()\n",
    "        self.fc2 = nn.Linear(32, 1)\n",
    "        self.sigmoid = nn.Sigmoid()\n",
    "\n",
    "    def forward(self, x):\n",
    "        x = self.embedding(x)\n",
    "        x, _ = self.lstm1(x)\n",
    "        x = self.dropout1(x)\n",
    "        x, _ = self.lstm2(x)\n",
    "        x = self.dropout2(x[:, -1, :])\n",
    "        x = self.fc1(x)\n",
    "        x = self.relu(x)\n",
    "        x = self.fc2(x)\n",
    "        return self.sigmoid(x)\n",
    "\n",
    "# Initialize model, loss, and optimizer\n",
    "devicestickersdevice = torch.device(\"cuda\" if torch.cuda.is_available() else \"cpu\")\n",
    "model = LSTMSentiment(vocab_size=len(vocab), embedding_dim=100, hidden_dim=128, dropout=0.2).to(device)\n",
    "criterion = nn.BCELoss()\n",
    "optimizer = optim.Adam(model.parameters())"
   ]
  },
  {
   "cell_type": "code",
   "execution_count": 29,
   "id": "db361ede-83ca-4836-94ef-61560d117c10",
   "metadata": {},
   "outputs": [
    {
     "name": "stdout",
     "output_type": "stream",
     "text": [
      "Epoch 1, Loss: 0.6936\n",
      "Epoch 2, Loss: 0.6875\n",
      "Epoch 3, Loss: 0.6633\n",
      "Epoch 4, Loss: 0.6047\n",
      "Epoch 5, Loss: 0.5321\n",
      "LSTM Accuracy: 0.5170\n",
      "LSTM F1-Score: 0.3070\n",
      "LSTM Confusion Matrix:\n",
      "[[410 102]\n",
      " [381 107]]\n"
     ]
    }
   ],
   "source": [
    "# Training loop\n",
    "epochs = 5\n",
    "for epoch in range(epochs):\n",
    "    model.train()\n",
    "    total_loss = 0\n",
    "    for texts, labels in train_loader:\n",
    "        texts, labels = texts.to(device), labels.to(device)\n",
    "        optimizer.zero_grad()\n",
    "        outputs = model(texts).squeeze()\n",
    "        loss = criterion(outputs, labels)\n",
    "        loss.backward()\n",
    "        optimizer.step()\n",
    "        total_loss += loss.item()\n",
    "    print(f\"Epoch {epoch+1}, Loss: {total_loss/len(train_loader):.4f}\")\n",
    "\n",
    "# Evaluation\n",
    "model.eval()\n",
    "y_true, y_pred = [], []\n",
    "with torch.no_grad():\n",
    "    for texts, labels in test_loader:\n",
    "        texts, labels = texts.to(device), labels.to(device)\n",
    "        outputs = model(texts).squeeze()\n",
    "        predictions = (outputs > 0.5).float()\n",
    "        y_true.extend(labels.cpu().numpy())\n",
    "        y_pred.extend(predictions.cpu().numpy())\n",
    "\n",
    "\n",
    "\n"
   ]
  },
  {
   "cell_type": "code",
   "execution_count": 32,
   "id": "ba0882f0-f714-4dc7-99ec-e896c692ff0e",
   "metadata": {},
   "outputs": [
    {
     "name": "stdout",
     "output_type": "stream",
     "text": [
      "=== Model Evaluation ===\n",
      "Accuracy: 0.5170\n",
      "F1-score: 0.3070\n",
      "\n",
      "Detailed classification report:\n",
      "              precision    recall  f1-score   support\n",
      "\n",
      "    Negative       0.52      0.80      0.63       512\n",
      "    Positive       0.51      0.22      0.31       488\n",
      "\n",
      "    accuracy                           0.52      1000\n",
      "   macro avg       0.52      0.51      0.47      1000\n",
      "weighted avg       0.52      0.52      0.47      1000\n",
      "\n"
     ]
    },
    {
     "data": {
      "image/png": "[encoded data removed]",
      "text/plain": [
       "<Figure size 800x600 with 2 Axes>"
      ]
     },
     "metadata": {},
     "output_type": "display_data"
    }
   ],
   "source": [
    "# Calculate metrics\n",
    "accuracy = accuracy_score(y_true, y_pred)\n",
    "f1 = f1_score(y_true, y_pred)\n",
    "conf_matrix = confusion_matrix(y_true, y_pred)\n",
    "\n",
    "# Print evaluation metrics\n",
    "print(\"=== Model Evaluation ===\")\n",
    "print(f\"Accuracy: {accuracy:.4f}\")\n",
    "print(f\"F1-score: {f1:.4f}\")\n",
    "print(\"\\nDetailed classification report:\")\n",
    "print(classification_report(y_true, y_pred, target_names=['Negative', 'Positive']))\n",
    "\n",
    "# Plot confusion matrix\n",
    "plot_confusion_matrix(y_true, y_pred, class_names=['Negative', 'Positive'])"
   ]
  },
  {
   "cell_type": "markdown",
   "id": "c23744b4-ee91-4f43-b820-577fd7d21576",
   "metadata": {},
   "source": [
    "# Task 8"
   ]
  },
  {
   "cell_type": "code",
   "execution_count": 35,
   "id": "fb9e18d8-d0d4-4d53-ab3d-cc9235fd6066",
   "metadata": {},
   "outputs": [],
   "source": [
    "import torch\n",
    "from transformers import BertTokenizer, BertForSequenceClassification, Trainer, TrainingArguments\n",
    "from datasets import load_dataset\n",
    "import numpy as np\n",
    "from sklearn.metrics import accuracy_score, precision_recall_fscore_support\n",
    "\n",
    "import matplotlib.pyplot as plt\n",
    "import seaborn as sns\n"
   ]
  },
  {
   "cell_type": "code",
   "execution_count": 36,
   "id": "ceb74b69-3bdb-4581-804c-9e3a4ce80616",
   "metadata": {},
   "outputs": [],
   "source": [
    "# Load dataset and tokenizer\n",
    "dataset = load_dataset(\"imdb\")\n",
    "tokenizer = BertTokenizer.from_pretrained(\"bert-base-uncased\")\n"
   ]
  },
  {
   "cell_type": "code",
   "execution_count": 37,
   "id": "ed9d6868-f608-42bb-b643-88ad00348d4c",
   "metadata": {},
   "outputs": [],
   "source": [
    "# Tokenize dataset\n",
    "def tokenize_function(examples):\n",
    "    return tokenizer(examples[\"text\"], padding=\"max_length\", truncation=True, max_length=512)\n"
   ]
  },
  {
   "cell_type": "code",
   "execution_count": 38,
   "id": "083f5fa4-d3ea-4deb-96c2-010afbad7532",
   "metadata": {},
   "outputs": [],
   "source": [
    "tokenized_datasets = dataset.map(tokenize_function, batched=True)\n",
    "tokenized_datasets = tokenized_datasets.remove_columns([\"text\"])\n",
    "tokenized_datasets = tokenized_datasets.rename_column(\"label\", \"labels\")\n",
    "tokenized_datasets.set_format(\"torch\")"
   ]
  },
  {
   "cell_type": "code",
   "execution_count": 39,
   "id": "20b81f39-f064-4bd7-bf81-83da0d49ea5c",
   "metadata": {},
   "outputs": [
    {
     "name": "stderr",
     "output_type": "stream",
     "text": [
      "Some weights of BertForSequenceClassification were not initialized from the model checkpoint at bert-base-uncased and are newly initialized: ['classifier.bias', 'classifier.weight']\n",
      "You should probably TRAIN this model on a down-stream task to be able to use it for predictions and inference.\n"
     ]
    }
   ],
   "source": [
    "# Split dataset\n",
    "train_dataset = tokenized_datasets[\"train\"].shuffle(seed=42).select(range(5000))  # Subset for faster training\n",
    "eval_dataset = tokenized_datasets[\"test\"].shuffle(seed=42).select(range(2000))\n",
    "\n",
    "# Load model\n",
    "model = BertForSequenceClassification.from_pretrained(\"bert-base-uncased\", num_labels=2)\n"
   ]
  },
  {
   "cell_type": "code",
   "execution_count": 40,
   "id": "46aeea08-f658-43eb-8d1e-83b21330a4a8",
   "metadata": {},
   "outputs": [
    {
     "name": "stderr",
     "output_type": "stream",
     "text": [
      "/opt/conda/envs/classifier/lib/python3.10/site-packages/transformers/training_args.py:1545: FutureWarning: `evaluation_strategy` is deprecated and will be removed in version 4.46 of 🤗 Transformers. Use `eval_strategy` instead\n",
      "  warnings.warn(\n"
     ]
    }
   ],
   "source": [
    "# Define metrics\n",
    "def compute_metrics(pred):\n",
    "    labels = pred.label_ids\n",
    "    preds = pred.predictions.argmax(-1)\n",
    "    precision, recall, f1, _ = precision_recall_fscore_support(labels, preds, average=\"binary\")\n",
    "    acc = accuracy_score(labels, preds)\n",
    "    return {\n",
    "        \"accuracy\": acc,\n",
    "        \"precision\": precision,\n",
    "        \"recall\": recall,\n",
    "        \"f1\": f1,\n",
    "    }\n",
    "\n",
    "# Training arguments\n",
    "training_args = TrainingArguments(\n",
    "    output_dir=\"./results\",\n",
    "    num_train_epochs=3,\n",
    "    per_device_train_batch_size=32,\n",
    "    per_device_eval_batch_size=32,\n",
    "    warmup_steps=500,\n",
    "    weight_decay=0.01,\n",
    "    logging_dir=\"./logs\",\n",
    "    logging_steps=100,\n",
    "    evaluation_strategy=\"steps\",\n",
    "    eval_steps=100,\n",
    "    save_strategy=\"steps\",   \n",
    "    save_steps=100,           \n",
    "    load_best_model_at_end=True,\n",
    ")\n",
    "\n",
    "\n",
    "\n",
    "# Initialize Trainer\n",
    "trainer = Trainer(\n",
    "    model=model,\n",
    "    args=training_args,\n",
    "    train_dataset=train_dataset,\n",
    "    eval_dataset=eval_dataset,\n",
    "    compute_metrics=compute_metrics,\n",
    ")\n",
    "\n"
   ]
  },
  {
   "cell_type": "code",
   "execution_count": 41,
   "id": "ebed9e84-e1fb-4b9f-98f3-609ca80049e5",
   "metadata": {
    "scrolled": true
   },
   "outputs": [
    {
     "data": {
      "text/html": [
       "\n",
       "    <div>\n",
       "      \n",
       "      <progress value='471' max='471' style='width:300px; height:20px; vertical-align: middle;'></progress>\n",
       "      [471/471 02:49, Epoch 3/3]\n",
       "    </div>\n",
       "    <table border=\"1\" class=\"dataframe\">\n",
       "  <thead>\n",
       " <tr style=\"text-align: left;\">\n",
       "      <th>Step</th>\n",
       "      <th>Training Loss</th>\n",
       "      <th>Validation Loss</th>\n",
       "      <th>Accuracy</th>\n",
       "      <th>Precision</th>\n",
       "      <th>Recall</th>\n",
       "      <th>F1</th>\n",
       "    </tr>\n",
       "  </thead>\n",
       "  <tbody>\n",
       "    <tr>\n",
       "      <td>100</td>\n",
       "      <td>0.641400</td>\n",
       "      <td>0.425062</td>\n",
       "      <td>0.863500</td>\n",
       "      <td>0.849856</td>\n",
       "      <td>0.883000</td>\n",
       "      <td>0.866111</td>\n",
       "    </tr>\n",
       "    <tr>\n",
       "      <td>200</td>\n",
       "      <td>0.316100</td>\n",
       "      <td>0.234919</td>\n",
       "      <td>0.914000</td>\n",
       "      <td>0.889098</td>\n",
       "      <td>0.946000</td>\n",
       "      <td>0.916667</td>\n",
       "    </tr>\n",
       "    <tr>\n",
       "      <td>300</td>\n",
       "      <td>0.258200</td>\n",
       "      <td>0.260266</td>\n",
       "      <td>0.894500</td>\n",
       "      <td>0.848806</td>\n",
       "      <td>0.960000</td>\n",
       "      <td>0.900985</td>\n",
       "    </tr>\n",
       "    <tr>\n",
       "      <td>400</td>\n",
       "      <td>0.181400</td>\n",
       "      <td>0.284330</td>\n",
       "      <td>0.910000</td>\n",
       "      <td>0.941810</td>\n",
       "      <td>0.874000</td>\n",
       "      <td>0.906639</td>\n",
       "    </tr>\n",
       "  </tbody>\n",
       "</table><p>"
      ],
      "text/plain": [
       "<IPython.core.display.HTML object>"
      ]
     },
     "metadata": {},
     "output_type": "display_data"
    }
   ],
   "source": [
    "# Train model\n",
    "train_result = trainer.train()\n"
   ]
  },
  {
   "cell_type": "code",
   "execution_count": 14,
   "id": "127c79d9-e1d5-4413-8b24-cbeadda114b1",
   "metadata": {},
   "outputs": [
    {
     "data": {
      "text/html": [
       "\n",
       "    <div>\n",
       "      \n",
       "      <progress value='63' max='63' style='width:300px; height:20px; vertical-align: middle;'></progress>\n",
       "      [63/63 00:05]\n",
       "    </div>\n",
       "    "
      ],
      "text/plain": [
       "<IPython.core.display.HTML object>"
      ]
     },
     "metadata": {},
     "output_type": "display_data"
    },
    {
     "name": "stdout",
     "output_type": "stream",
     "text": [
      "Evaluation metrics: {'eval_loss': 0.23957428336143494, 'eval_accuracy': 0.91, 'eval_precision': 0.9466230936819172, 'eval_recall': 0.869, 'eval_f1': 0.9061522419186653, 'eval_runtime': 5.8908, 'eval_samples_per_second': 339.51, 'eval_steps_per_second': 10.695, 'epoch': 3.0}\n"
     ]
    }
   ],
   "source": [
    "# Evaluate model\n",
    "metrics = trainer.evaluate()\n",
    "print(\"Evaluation metrics:\", metrics)\n",
    "\n",
    "# Save model\n",
    "trainer.save_model(\"./fine_tuned_bert\")"
   ]
  },
  {
   "cell_type": "code",
   "execution_count": 15,
   "id": "63b05814-af12-4b69-b26b-4bc5a7c17861",
   "metadata": {},
   "outputs": [
    {
     "data": {
      "image/png": "[encoded data removed]",
      "text/plain": [
       "<Figure size 1200x500 with 2 Axes>"
      ]
     },
     "metadata": {},
     "output_type": "display_data"
    }
   ],
   "source": [
    "# Plot training curves\n",
    "metrics = trainer.state.log_history\n",
    "train_loss = [x[\"loss\"] for x in metrics if \"loss\" in x]\n",
    "eval_loss = [x[\"eval_loss\"] for x in metrics if \"eval_loss\" in x]\n",
    "eval_accuracy = [x[\"eval_accuracy\"] for x in metrics if \"eval_accuracy\" in x]\n",
    "epochs = range(1, len(eval_loss) + 1)\n",
    "\n",
    "plt.figure(figsize=(12, 5))\n",
    "\n",
    "# Loss plot\n",
    "plt.subplot(1, 2, 1)\n",
    "plt.plot(train_loss, label=\"Training Loss\")\n",
    "plt.plot(epochs, eval_loss, label=\"Validation Loss\")\n",
    "plt.xlabel(\"Steps\" if len(train_loss) > len(epochs) else \"Epochs\")\n",
    "plt.ylabel(\"Loss\")\n",
    "plt.title(\"Training and Validation Loss\")\n",
    "plt.legend()\n",
    "plt.grid(True)\n",
    "\n",
    "# Accuracy plot\n",
    "plt.subplot(1, 2, 2)\n",
    "plt.plot(epochs, eval_accuracy, label=\"Validation Accuracy\")\n",
    "plt.xlabel(\"Epochs\")\n",
    "plt.ylabel(\"Accuracy\")\n",
    "plt.title(\"Validation Accuracy\")\n",
    "plt.legend()\n",
    "plt.grid(True)\n",
    "\n",
    "plt.tight_layout()\n",
    "plt.savefig(\"training_curves.png\")"
   ]
  },
  {
   "cell_type": "code",
   "execution_count": null,
   "id": "cca93aee-4bc8-4fa6-9912-105967a62a2d",
   "metadata": {},
   "outputs": [],
   "source": []
  }
 ],
 "metadata": {
  "kernelspec": {
   "display_name": "classifier",
   "language": "python",
   "name": "classifier"
  },
  "language_info": {
   "codemirror_mode": {
    "name": "ipython",
    "version": 3
   },
   "file_extension": ".py",
   "mimetype": "text/x-python",
   "name": "python",
   "nbconvert_exporter": "python",
   "pygments_lexer": "ipython3",
   "version": "3.10.15"
  }
 },
 "nbformat": 4,
 "nbformat_minor": 5
}
